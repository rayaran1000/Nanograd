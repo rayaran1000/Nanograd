{
  "nbformat": 4,
  "nbformat_minor": 0,
  "metadata": {
    "colab": {
      "provenance": []
    },
    "kernelspec": {
      "name": "python3",
      "display_name": "Python 3"
    },
    "language_info": {
      "name": "python"
    }
  },
  "cells": [
    {
      "cell_type": "code",
      "source": [
        "import numpy as np\n",
        "import matplotlib.pyplot as ply\n",
        "import pandas as pd\n",
        "import math\n",
        "%matplotlib inline"
      ],
      "metadata": {
        "id": "3tWeoQXh66uv"
      },
      "execution_count": 135,
      "outputs": []
    },
    {
      "cell_type": "code",
      "source": [
        "# Item object -> takes in data, operator, label, child nodes as values\n",
        "# Operations it can perform -> Add, Subtract, Multiply, Divide, Power\n",
        "# Activation functions -> Tanh, Sigmoid, Relu\n",
        "# Can take grad as well as input -> not required in initialization(calculated during back prop)"
      ],
      "metadata": {
        "id": "39waCcdA66k_"
      },
      "execution_count": 136,
      "outputs": []
    },
    {
      "cell_type": "code",
      "execution_count": 137,
      "metadata": {
        "id": "SQPqtJfc5l_5"
      },
      "outputs": [],
      "source": [
        "class Item:\n",
        "\n",
        "    def __init__(self,data,child_nodes=(),operator='',label=''):\n",
        "\n",
        "        self.data = data\n",
        "        self.child_nodes = set(child_nodes)\n",
        "        self.operator = operator\n",
        "        self.label = label\n",
        "        self.grad = 0.0\n",
        "        self.backprop = lambda : None\n",
        "\n",
        "    def __repr__(self):\n",
        "        return f\"Item(data={self.data})\"\n",
        "\n",
        "    def __add__(self,other):\n",
        "        other = other if isinstance(other,Item) else Item(other)\n",
        "        out = Item((self.data + other.data),(self,other),'+')\n",
        "\n",
        "        def backprop():\n",
        "\n",
        "          self.grad += 1.0 * out.grad\n",
        "          other.grad += 1.0 * out.grad\n",
        "\n",
        "        out.backprop = backprop\n",
        "        return out\n",
        "\n",
        "    def __radd__(self,other):\n",
        "        return self + other\n",
        "\n",
        "    def __mul__(self,other):\n",
        "        other = other if isinstance(other,Item) else Item(other)\n",
        "        out =  Item((self.data * other.data),(self,other),'*')\n",
        "\n",
        "        def backprop():\n",
        "          self.grad += other.data\n",
        "          other.grad += self.data\n",
        "\n",
        "        out.backprop = backprop\n",
        "        return out\n",
        "\n",
        "    def __rmul__(self,other):\n",
        "        return self * other\n",
        "\n",
        "    def __neg__(self):\n",
        "        return -1 * self\n",
        "\n",
        "    def __sub__(self,other):\n",
        "        other = other if isinstance(other,Item) else Item(other)\n",
        "        return self + (-other)\n",
        "\n",
        "    def __rsub__(self,other):\n",
        "        return (-self) + other\n",
        "\n",
        "    def __pow__(self,power):\n",
        "        assert isinstance(power,(int,float))  # Power only supports ints and floats, so assert checks that(if fails, raises as assertion error)\n",
        "        out = Item(self.data ** power,(self,),f'pow of {power}')\n",
        "\n",
        "        def backprop():\n",
        "          self.grad = power * (self ** (power - 1))*out.grad\n",
        "\n",
        "        out.backprop = backprop\n",
        "        return out\n",
        "\n",
        "    def __truediv__(self,other):\n",
        "        return self * (other**-1)\n",
        "\n",
        "    def exp(self):\n",
        "      out =  Item(math.exp(self.data),(self,),'exp')\n",
        "\n",
        "      def backprop():\n",
        "        self.grad += math.exp(self.data) * out.data\n",
        "\n",
        "      out.backprop = backprop\n",
        "      return out\n",
        "\n",
        "    def tanh(self):\n",
        "\n",
        "      x = self.data\n",
        "      t = ((math.exp(2*x) - 1) / (math.exp(2*x) + 1))\n",
        "      out = Item(t,(self,),'tanh') # (self,) -> its a tuple of 1 object\n",
        "\n",
        "      def backprop():\n",
        "\n",
        "        self.grad += (1 - (t**2)) * out.grad\n",
        "\n",
        "      out.backprop = backprop\n",
        "      return out\n",
        "\n",
        "    def sigmoid(self):\n",
        "\n",
        "      t = (math.exp(self.data)) / (1 + math.exp(self.data))\n",
        "      out = Item(t,(self,),'sigmoid')\n",
        "\n",
        "      def backprop():\n",
        "        self.grad += t*(1-t)*out.grad\n",
        "\n",
        "      out.backprop = backprop\n",
        "      return out\n",
        "\n",
        "    def relu(self):\n",
        "\n",
        "      t = max(0,self.data)\n",
        "      out = Item(t,(self,),'relu')\n",
        "\n",
        "      def backprop():\n",
        "\n",
        "        if t == 0:\n",
        "          self.grad = 0\n",
        "        else:\n",
        "          self.grad += 1.0 * out.grad\n",
        "      out.backprop = backprop\n",
        "      return out\n",
        "\n",
        "    def backward(self):\n",
        "\n",
        "      # Topological sort of traversing through a graph, so that each node is visited(done so that for each node we can do _backward later instead of doing it manually)\n",
        "      topo = []\n",
        "      visited = set()\n",
        "      def build_topo(v):\n",
        "        if v not in visited:\n",
        "          visited.add(v)\n",
        "          for child in v.child_nodes:\n",
        "            build_topo(child)\n",
        "          topo.append(v)\n",
        "      build_topo(self)\n",
        "\n",
        "      self.grad = 1.0\n",
        "      for node in reversed(topo):\n",
        "        node.backprop()"
      ]
    },
    {
      "cell_type": "code",
      "source": [
        "a = Item(1)\n",
        "b = Item(-5)\n",
        "c = a * b\n",
        "d = 10\n",
        "e = c + d\n",
        "e"
      ],
      "metadata": {
        "colab": {
          "base_uri": "https://localhost:8080/"
        },
        "id": "cMWwkZQg5uIB",
        "outputId": "5f549aeb-41da-49f8-82ef-802c569441ff"
      },
      "execution_count": 138,
      "outputs": [
        {
          "output_type": "execute_result",
          "data": {
            "text/plain": [
              "Item(data=5)"
            ]
          },
          "metadata": {},
          "execution_count": 138
        }
      ]
    },
    {
      "cell_type": "code",
      "source": [
        "a.relu()"
      ],
      "metadata": {
        "colab": {
          "base_uri": "https://localhost:8080/"
        },
        "id": "VZDMhdMcDGhG",
        "outputId": "971ecfcf-09a5-416e-94ae-55b4d857dcbd"
      },
      "execution_count": 139,
      "outputs": [
        {
          "output_type": "execute_result",
          "data": {
            "text/plain": [
              "Item(data=1)"
            ]
          },
          "metadata": {},
          "execution_count": 139
        }
      ]
    },
    {
      "cell_type": "code",
      "source": [
        "# Used for visualizing a graph\n",
        "from graphviz import Digraph\n",
        "\n",
        "def trace(root):\n",
        "  # builds a set of all nodes and edges in a graph\n",
        "  nodes, edges = set(), set()\n",
        "  def build(v):\n",
        "    if v not in nodes:\n",
        "      nodes.add(v)\n",
        "      for child in v.child_nodes:\n",
        "        edges.add((child, v))\n",
        "        build(child)\n",
        "  build(root)\n",
        "  return nodes, edges\n",
        "\n",
        "def draw_dot(root):\n",
        "  dot = Digraph(format='svg', graph_attr={'rankdir': 'LR'}) # LR = left to right\n",
        "\n",
        "  nodes, edges = trace(root)\n",
        "  for n in nodes:\n",
        "    uid = str(id(n))\n",
        "    # for any value in the graph, create a rectangular ('record') node for it\n",
        "    dot.node(name = uid, label = \"{ %s | data %.4f | grad %.4f }\" % (n.label, n.data, n.grad), shape='record')\n",
        "    if n.operator:\n",
        "      # if this value is a result of some operation, create an op node for it\n",
        "      dot.node(name = uid + n.operator, label = n.operator)\n",
        "      # and connect this node to it\n",
        "      dot.edge(uid + n.operator, uid)\n",
        "\n",
        "  for n1, n2 in edges:\n",
        "    # connect n1 to the op node of n2\n",
        "    dot.edge(str(id(n1)), str(id(n2)) + n2.operator)\n",
        "\n",
        "  return dot"
      ],
      "metadata": {
        "id": "azfjqMhSDSZ3"
      },
      "execution_count": 140,
      "outputs": []
    },
    {
      "cell_type": "code",
      "source": [
        "draw_dot(e)"
      ],
      "metadata": {
        "colab": {
          "base_uri": "https://localhost:8080/",
          "height": 191
        },
        "id": "z_a4eqldEMCe",
        "outputId": "8e2cbe7c-8cf8-4293-bcda-dad687d01bff"
      },
      "execution_count": 141,
      "outputs": [
        {
          "output_type": "execute_result",
          "data": {
            "image/svg+xml": "<?xml version=\"1.0\" encoding=\"UTF-8\" standalone=\"no\"?>\n<!DOCTYPE svg PUBLIC \"-//W3C//DTD SVG 1.1//EN\"\n \"http://www.w3.org/Graphics/SVG/1.1/DTD/svg11.dtd\">\n<!-- Generated by graphviz version 2.43.0 (0)\n -->\n<!-- Title: %3 Pages: 1 -->\n<svg width=\"818pt\" height=\"127pt\"\n viewBox=\"0.00 0.00 818.00 127.00\" xmlns=\"http://www.w3.org/2000/svg\" xmlns:xlink=\"http://www.w3.org/1999/xlink\">\n<g id=\"graph0\" class=\"graph\" transform=\"scale(1 1) rotate(0) translate(4 123)\">\n<title>%3</title>\n<polygon fill=\"white\" stroke=\"transparent\" points=\"-4,4 -4,-123 814,-123 814,4 -4,4\"/>\n<!-- 139509376223248 -->\n<g id=\"node1\" class=\"node\">\n<title>139509376223248</title>\n<polygon fill=\"none\" stroke=\"black\" points=\"314,-27.5 314,-63.5 501,-63.5 501,-27.5 314,-27.5\"/>\n<text text-anchor=\"middle\" x=\"324\" y=\"-41.8\" font-family=\"Times,serif\" font-size=\"14.00\"> </text>\n<polyline fill=\"none\" stroke=\"black\" points=\"334,-27.5 334,-63.5 \"/>\n<text text-anchor=\"middle\" x=\"376.5\" y=\"-41.8\" font-family=\"Times,serif\" font-size=\"14.00\">data &#45;5.0000</text>\n<polyline fill=\"none\" stroke=\"black\" points=\"419,-27.5 419,-63.5 \"/>\n<text text-anchor=\"middle\" x=\"460\" y=\"-41.8\" font-family=\"Times,serif\" font-size=\"14.00\">grad 0.0000</text>\n</g>\n<!-- 139509376173520+ -->\n<g id=\"node6\" class=\"node\">\n<title>139509376173520+</title>\n<ellipse fill=\"none\" stroke=\"black\" cx=\"565\" cy=\"-72.5\" rx=\"27\" ry=\"18\"/>\n<text text-anchor=\"middle\" x=\"565\" y=\"-68.8\" font-family=\"Times,serif\" font-size=\"14.00\">+</text>\n</g>\n<!-- 139509376223248&#45;&gt;139509376173520+ -->\n<g id=\"edge5\" class=\"edge\">\n<title>139509376223248&#45;&gt;139509376173520+</title>\n<path fill=\"none\" stroke=\"black\" d=\"M501.2,-61.6C510.9,-63.28 520.27,-64.91 528.68,-66.37\"/>\n<polygon fill=\"black\" stroke=\"black\" points=\"528.34,-69.86 538.79,-68.12 529.53,-62.96 528.34,-69.86\"/>\n</g>\n<!-- 139509376223248* -->\n<g id=\"node2\" class=\"node\">\n<title>139509376223248*</title>\n<ellipse fill=\"none\" stroke=\"black\" cx=\"250\" cy=\"-45.5\" rx=\"27\" ry=\"18\"/>\n<text text-anchor=\"middle\" x=\"250\" y=\"-41.8\" font-family=\"Times,serif\" font-size=\"14.00\">*</text>\n</g>\n<!-- 139509376223248*&#45;&gt;139509376223248 -->\n<g id=\"edge1\" class=\"edge\">\n<title>139509376223248*&#45;&gt;139509376223248</title>\n<path fill=\"none\" stroke=\"black\" d=\"M277.03,-45.5C284.86,-45.5 293.96,-45.5 303.66,-45.5\"/>\n<polygon fill=\"black\" stroke=\"black\" points=\"303.94,-49 313.94,-45.5 303.94,-42 303.94,-49\"/>\n</g>\n<!-- 139509376236816 -->\n<g id=\"node3\" class=\"node\">\n<title>139509376236816</title>\n<polygon fill=\"none\" stroke=\"black\" points=\"2.5,-55.5 2.5,-91.5 184.5,-91.5 184.5,-55.5 2.5,-55.5\"/>\n<text text-anchor=\"middle\" x=\"12.5\" y=\"-69.8\" font-family=\"Times,serif\" font-size=\"14.00\"> </text>\n<polyline fill=\"none\" stroke=\"black\" points=\"22.5,-55.5 22.5,-91.5 \"/>\n<text text-anchor=\"middle\" x=\"62.5\" y=\"-69.8\" font-family=\"Times,serif\" font-size=\"14.00\">data 1.0000</text>\n<polyline fill=\"none\" stroke=\"black\" points=\"102.5,-55.5 102.5,-91.5 \"/>\n<text text-anchor=\"middle\" x=\"143.5\" y=\"-69.8\" font-family=\"Times,serif\" font-size=\"14.00\">grad 0.0000</text>\n</g>\n<!-- 139509376236816&#45;&gt;139509376223248* -->\n<g id=\"edge4\" class=\"edge\">\n<title>139509376236816&#45;&gt;139509376223248*</title>\n<path fill=\"none\" stroke=\"black\" d=\"M184.82,-57.13C195.07,-55.27 205.01,-53.47 213.88,-51.87\"/>\n<polygon fill=\"black\" stroke=\"black\" points=\"214.54,-55.3 223.75,-50.08 213.29,-48.42 214.54,-55.3\"/>\n</g>\n<!-- 139509380075792 -->\n<g id=\"node4\" class=\"node\">\n<title>139509380075792</title>\n<polygon fill=\"none\" stroke=\"black\" points=\"0,-0.5 0,-36.5 187,-36.5 187,-0.5 0,-0.5\"/>\n<text text-anchor=\"middle\" x=\"10\" y=\"-14.8\" font-family=\"Times,serif\" font-size=\"14.00\"> </text>\n<polyline fill=\"none\" stroke=\"black\" points=\"20,-0.5 20,-36.5 \"/>\n<text text-anchor=\"middle\" x=\"62.5\" y=\"-14.8\" font-family=\"Times,serif\" font-size=\"14.00\">data &#45;5.0000</text>\n<polyline fill=\"none\" stroke=\"black\" points=\"105,-0.5 105,-36.5 \"/>\n<text text-anchor=\"middle\" x=\"146\" y=\"-14.8\" font-family=\"Times,serif\" font-size=\"14.00\">grad 0.0000</text>\n</g>\n<!-- 139509380075792&#45;&gt;139509376223248* -->\n<g id=\"edge3\" class=\"edge\">\n<title>139509380075792&#45;&gt;139509376223248*</title>\n<path fill=\"none\" stroke=\"black\" d=\"M187.05,-34.67C196.34,-36.3 205.33,-37.87 213.44,-39.29\"/>\n<polygon fill=\"black\" stroke=\"black\" points=\"213.1,-42.78 223.55,-41.05 214.3,-35.88 213.1,-42.78\"/>\n</g>\n<!-- 139509376173520 -->\n<g id=\"node5\" class=\"node\">\n<title>139509376173520</title>\n<polygon fill=\"none\" stroke=\"black\" points=\"628,-54.5 628,-90.5 810,-90.5 810,-54.5 628,-54.5\"/>\n<text text-anchor=\"middle\" x=\"638\" y=\"-68.8\" font-family=\"Times,serif\" font-size=\"14.00\"> </text>\n<polyline fill=\"none\" stroke=\"black\" points=\"648,-54.5 648,-90.5 \"/>\n<text text-anchor=\"middle\" x=\"688\" y=\"-68.8\" font-family=\"Times,serif\" font-size=\"14.00\">data 5.0000</text>\n<polyline fill=\"none\" stroke=\"black\" points=\"728,-54.5 728,-90.5 \"/>\n<text text-anchor=\"middle\" x=\"769\" y=\"-68.8\" font-family=\"Times,serif\" font-size=\"14.00\">grad 0.0000</text>\n</g>\n<!-- 139509376173520+&#45;&gt;139509376173520 -->\n<g id=\"edge2\" class=\"edge\">\n<title>139509376173520+&#45;&gt;139509376173520</title>\n<path fill=\"none\" stroke=\"black\" d=\"M592.13,-72.5C599.67,-72.5 608.39,-72.5 617.64,-72.5\"/>\n<polygon fill=\"black\" stroke=\"black\" points=\"617.87,-76 627.87,-72.5 617.87,-69 617.87,-76\"/>\n</g>\n<!-- 139509386957264 -->\n<g id=\"node7\" class=\"node\">\n<title>139509386957264</title>\n<polygon fill=\"none\" stroke=\"black\" points=\"313,-82.5 313,-118.5 502,-118.5 502,-82.5 313,-82.5\"/>\n<text text-anchor=\"middle\" x=\"323\" y=\"-96.8\" font-family=\"Times,serif\" font-size=\"14.00\"> </text>\n<polyline fill=\"none\" stroke=\"black\" points=\"333,-82.5 333,-118.5 \"/>\n<text text-anchor=\"middle\" x=\"376.5\" y=\"-96.8\" font-family=\"Times,serif\" font-size=\"14.00\">data 10.0000</text>\n<polyline fill=\"none\" stroke=\"black\" points=\"420,-82.5 420,-118.5 \"/>\n<text text-anchor=\"middle\" x=\"461\" y=\"-96.8\" font-family=\"Times,serif\" font-size=\"14.00\">grad 0.0000</text>\n</g>\n<!-- 139509386957264&#45;&gt;139509376173520+ -->\n<g id=\"edge6\" class=\"edge\">\n<title>139509386957264&#45;&gt;139509376173520+</title>\n<path fill=\"none\" stroke=\"black\" d=\"M502.1,-83.65C511.4,-81.97 520.38,-80.35 528.49,-78.89\"/>\n<polygon fill=\"black\" stroke=\"black\" points=\"529.37,-82.29 538.59,-77.07 528.13,-75.4 529.37,-82.29\"/>\n</g>\n</g>\n</svg>\n",
            "text/plain": [
              "<graphviz.graphs.Digraph at 0x7ee20f2106d0>"
            ]
          },
          "metadata": {},
          "execution_count": 141
        }
      ]
    },
    {
      "cell_type": "code",
      "source": [
        "e.backward()"
      ],
      "metadata": {
        "id": "OrFW8_3IENy8"
      },
      "execution_count": 142,
      "outputs": []
    },
    {
      "cell_type": "code",
      "source": [
        "draw_dot(e)"
      ],
      "metadata": {
        "id": "4F_y2ggoEfuE",
        "colab": {
          "base_uri": "https://localhost:8080/",
          "height": 191
        },
        "outputId": "fc266777-a05d-4400-9228-6fc2e3280b25"
      },
      "execution_count": 143,
      "outputs": [
        {
          "output_type": "execute_result",
          "data": {
            "image/svg+xml": "<?xml version=\"1.0\" encoding=\"UTF-8\" standalone=\"no\"?>\n<!DOCTYPE svg PUBLIC \"-//W3C//DTD SVG 1.1//EN\"\n \"http://www.w3.org/Graphics/SVG/1.1/DTD/svg11.dtd\">\n<!-- Generated by graphviz version 2.43.0 (0)\n -->\n<!-- Title: %3 Pages: 1 -->\n<svg width=\"818pt\" height=\"127pt\"\n viewBox=\"0.00 0.00 818.00 127.00\" xmlns=\"http://www.w3.org/2000/svg\" xmlns:xlink=\"http://www.w3.org/1999/xlink\">\n<g id=\"graph0\" class=\"graph\" transform=\"scale(1 1) rotate(0) translate(4 123)\">\n<title>%3</title>\n<polygon fill=\"white\" stroke=\"transparent\" points=\"-4,4 -4,-123 814,-123 814,4 -4,4\"/>\n<!-- 139509376223248 -->\n<g id=\"node1\" class=\"node\">\n<title>139509376223248</title>\n<polygon fill=\"none\" stroke=\"black\" points=\"314,-27.5 314,-63.5 501,-63.5 501,-27.5 314,-27.5\"/>\n<text text-anchor=\"middle\" x=\"324\" y=\"-41.8\" font-family=\"Times,serif\" font-size=\"14.00\"> </text>\n<polyline fill=\"none\" stroke=\"black\" points=\"334,-27.5 334,-63.5 \"/>\n<text text-anchor=\"middle\" x=\"376.5\" y=\"-41.8\" font-family=\"Times,serif\" font-size=\"14.00\">data &#45;5.0000</text>\n<polyline fill=\"none\" stroke=\"black\" points=\"419,-27.5 419,-63.5 \"/>\n<text text-anchor=\"middle\" x=\"460\" y=\"-41.8\" font-family=\"Times,serif\" font-size=\"14.00\">grad 1.0000</text>\n</g>\n<!-- 139509376173520+ -->\n<g id=\"node6\" class=\"node\">\n<title>139509376173520+</title>\n<ellipse fill=\"none\" stroke=\"black\" cx=\"565\" cy=\"-72.5\" rx=\"27\" ry=\"18\"/>\n<text text-anchor=\"middle\" x=\"565\" y=\"-68.8\" font-family=\"Times,serif\" font-size=\"14.00\">+</text>\n</g>\n<!-- 139509376223248&#45;&gt;139509376173520+ -->\n<g id=\"edge5\" class=\"edge\">\n<title>139509376223248&#45;&gt;139509376173520+</title>\n<path fill=\"none\" stroke=\"black\" d=\"M501.2,-61.6C510.9,-63.28 520.27,-64.91 528.68,-66.37\"/>\n<polygon fill=\"black\" stroke=\"black\" points=\"528.34,-69.86 538.79,-68.12 529.53,-62.96 528.34,-69.86\"/>\n</g>\n<!-- 139509376223248* -->\n<g id=\"node2\" class=\"node\">\n<title>139509376223248*</title>\n<ellipse fill=\"none\" stroke=\"black\" cx=\"250\" cy=\"-45.5\" rx=\"27\" ry=\"18\"/>\n<text text-anchor=\"middle\" x=\"250\" y=\"-41.8\" font-family=\"Times,serif\" font-size=\"14.00\">*</text>\n</g>\n<!-- 139509376223248*&#45;&gt;139509376223248 -->\n<g id=\"edge1\" class=\"edge\">\n<title>139509376223248*&#45;&gt;139509376223248</title>\n<path fill=\"none\" stroke=\"black\" d=\"M277.03,-45.5C284.86,-45.5 293.96,-45.5 303.66,-45.5\"/>\n<polygon fill=\"black\" stroke=\"black\" points=\"303.94,-49 313.94,-45.5 303.94,-42 303.94,-49\"/>\n</g>\n<!-- 139509376236816 -->\n<g id=\"node3\" class=\"node\">\n<title>139509376236816</title>\n<polygon fill=\"none\" stroke=\"black\" points=\"0.5,-55.5 0.5,-91.5 186.5,-91.5 186.5,-55.5 0.5,-55.5\"/>\n<text text-anchor=\"middle\" x=\"10.5\" y=\"-69.8\" font-family=\"Times,serif\" font-size=\"14.00\"> </text>\n<polyline fill=\"none\" stroke=\"black\" points=\"20.5,-55.5 20.5,-91.5 \"/>\n<text text-anchor=\"middle\" x=\"60.5\" y=\"-69.8\" font-family=\"Times,serif\" font-size=\"14.00\">data 1.0000</text>\n<polyline fill=\"none\" stroke=\"black\" points=\"100.5,-55.5 100.5,-91.5 \"/>\n<text text-anchor=\"middle\" x=\"143.5\" y=\"-69.8\" font-family=\"Times,serif\" font-size=\"14.00\">grad &#45;5.0000</text>\n</g>\n<!-- 139509376236816&#45;&gt;139509376223248* -->\n<g id=\"edge4\" class=\"edge\">\n<title>139509376236816&#45;&gt;139509376223248*</title>\n<path fill=\"none\" stroke=\"black\" d=\"M186.6,-56.81C196.15,-55.08 205.37,-53.41 213.68,-51.9\"/>\n<polygon fill=\"black\" stroke=\"black\" points=\"214.43,-55.32 223.65,-50.09 213.18,-48.43 214.43,-55.32\"/>\n</g>\n<!-- 139509380075792 -->\n<g id=\"node4\" class=\"node\">\n<title>139509380075792</title>\n<polygon fill=\"none\" stroke=\"black\" points=\"0,-0.5 0,-36.5 187,-36.5 187,-0.5 0,-0.5\"/>\n<text text-anchor=\"middle\" x=\"10\" y=\"-14.8\" font-family=\"Times,serif\" font-size=\"14.00\"> </text>\n<polyline fill=\"none\" stroke=\"black\" points=\"20,-0.5 20,-36.5 \"/>\n<text text-anchor=\"middle\" x=\"62.5\" y=\"-14.8\" font-family=\"Times,serif\" font-size=\"14.00\">data &#45;5.0000</text>\n<polyline fill=\"none\" stroke=\"black\" points=\"105,-0.5 105,-36.5 \"/>\n<text text-anchor=\"middle\" x=\"146\" y=\"-14.8\" font-family=\"Times,serif\" font-size=\"14.00\">grad 1.0000</text>\n</g>\n<!-- 139509380075792&#45;&gt;139509376223248* -->\n<g id=\"edge3\" class=\"edge\">\n<title>139509380075792&#45;&gt;139509376223248*</title>\n<path fill=\"none\" stroke=\"black\" d=\"M187.05,-34.67C196.34,-36.3 205.33,-37.87 213.44,-39.29\"/>\n<polygon fill=\"black\" stroke=\"black\" points=\"213.1,-42.78 223.55,-41.05 214.3,-35.88 213.1,-42.78\"/>\n</g>\n<!-- 139509376173520 -->\n<g id=\"node5\" class=\"node\">\n<title>139509376173520</title>\n<polygon fill=\"none\" stroke=\"black\" points=\"628,-54.5 628,-90.5 810,-90.5 810,-54.5 628,-54.5\"/>\n<text text-anchor=\"middle\" x=\"638\" y=\"-68.8\" font-family=\"Times,serif\" font-size=\"14.00\"> </text>\n<polyline fill=\"none\" stroke=\"black\" points=\"648,-54.5 648,-90.5 \"/>\n<text text-anchor=\"middle\" x=\"688\" y=\"-68.8\" font-family=\"Times,serif\" font-size=\"14.00\">data 5.0000</text>\n<polyline fill=\"none\" stroke=\"black\" points=\"728,-54.5 728,-90.5 \"/>\n<text text-anchor=\"middle\" x=\"769\" y=\"-68.8\" font-family=\"Times,serif\" font-size=\"14.00\">grad 1.0000</text>\n</g>\n<!-- 139509376173520+&#45;&gt;139509376173520 -->\n<g id=\"edge2\" class=\"edge\">\n<title>139509376173520+&#45;&gt;139509376173520</title>\n<path fill=\"none\" stroke=\"black\" d=\"M592.13,-72.5C599.67,-72.5 608.39,-72.5 617.64,-72.5\"/>\n<polygon fill=\"black\" stroke=\"black\" points=\"617.87,-76 627.87,-72.5 617.87,-69 617.87,-76\"/>\n</g>\n<!-- 139509386957264 -->\n<g id=\"node7\" class=\"node\">\n<title>139509386957264</title>\n<polygon fill=\"none\" stroke=\"black\" points=\"313,-82.5 313,-118.5 502,-118.5 502,-82.5 313,-82.5\"/>\n<text text-anchor=\"middle\" x=\"323\" y=\"-96.8\" font-family=\"Times,serif\" font-size=\"14.00\"> </text>\n<polyline fill=\"none\" stroke=\"black\" points=\"333,-82.5 333,-118.5 \"/>\n<text text-anchor=\"middle\" x=\"376.5\" y=\"-96.8\" font-family=\"Times,serif\" font-size=\"14.00\">data 10.0000</text>\n<polyline fill=\"none\" stroke=\"black\" points=\"420,-82.5 420,-118.5 \"/>\n<text text-anchor=\"middle\" x=\"461\" y=\"-96.8\" font-family=\"Times,serif\" font-size=\"14.00\">grad 1.0000</text>\n</g>\n<!-- 139509386957264&#45;&gt;139509376173520+ -->\n<g id=\"edge6\" class=\"edge\">\n<title>139509386957264&#45;&gt;139509376173520+</title>\n<path fill=\"none\" stroke=\"black\" d=\"M502.1,-83.65C511.4,-81.97 520.38,-80.35 528.49,-78.89\"/>\n<polygon fill=\"black\" stroke=\"black\" points=\"529.37,-82.29 538.59,-77.07 528.13,-75.4 529.37,-82.29\"/>\n</g>\n</g>\n</svg>\n",
            "text/plain": [
              "<graphviz.graphs.Digraph at 0x7ee20e765d10>"
            ]
          },
          "metadata": {},
          "execution_count": 143
        }
      ]
    },
    {
      "cell_type": "code",
      "source": [
        "# Manual Backprop for NN (2 inputs, 1 neuron hidden layer, 1 output)\n",
        "\n",
        "# Inputs\n",
        "x1 = Item(10.0,label='x1')\n",
        "x2 = Item(15.0,label='x2')\n",
        "\n",
        "# Weights and bias\n",
        "w1 = Item(0.2,label='w1')\n",
        "w2 = Item(0.17,label='w2')\n",
        "b = Item(1.5,label='b')\n",
        "\n",
        "# Hidden layer\n",
        "h = w1*x1 + w2*x2 + b\n",
        "\n",
        "o1 = h.relu()\n",
        "o2 = h.tanh()\n",
        "o3 = h.sigmoid()"
      ],
      "metadata": {
        "id": "vZpvHBb-aPAE"
      },
      "execution_count": 144,
      "outputs": []
    },
    {
      "cell_type": "code",
      "source": [
        "draw_dot(o1)"
      ],
      "metadata": {
        "colab": {
          "base_uri": "https://localhost:8080/",
          "height": 321
        },
        "id": "fv3I5KMtbw9g",
        "outputId": "5563fce0-56f0-41cf-96c0-fc0403036604"
      },
      "execution_count": 145,
      "outputs": [
        {
          "output_type": "execute_result",
          "data": {
            "image/svg+xml": "<?xml version=\"1.0\" encoding=\"UTF-8\" standalone=\"no\"?>\n<!DOCTYPE svg PUBLIC \"-//W3C//DTD SVG 1.1//EN\"\n \"http://www.w3.org/Graphics/SVG/1.1/DTD/svg11.dtd\">\n<!-- Generated by graphviz version 2.43.0 (0)\n -->\n<!-- Title: %3 Pages: 1 -->\n<svg width=\"1442pt\" height=\"210pt\"\n viewBox=\"0.00 0.00 1442.00 210.00\" xmlns=\"http://www.w3.org/2000/svg\" xmlns:xlink=\"http://www.w3.org/1999/xlink\">\n<g id=\"graph0\" class=\"graph\" transform=\"scale(1 1) rotate(0) translate(4 206)\">\n<title>%3</title>\n<polygon fill=\"white\" stroke=\"transparent\" points=\"-4,4 -4,-206 1438,-206 1438,4 -4,4\"/>\n<!-- 139509372079120 -->\n<g id=\"node1\" class=\"node\">\n<title>139509372079120</title>\n<polygon fill=\"none\" stroke=\"black\" points=\"634.5,-82.5 634.5,-118.5 816.5,-118.5 816.5,-82.5 634.5,-82.5\"/>\n<text text-anchor=\"middle\" x=\"644.5\" y=\"-96.8\" font-family=\"Times,serif\" font-size=\"14.00\"> </text>\n<polyline fill=\"none\" stroke=\"black\" points=\"654.5,-82.5 654.5,-118.5 \"/>\n<text text-anchor=\"middle\" x=\"694.5\" y=\"-96.8\" font-family=\"Times,serif\" font-size=\"14.00\">data 4.5500</text>\n<polyline fill=\"none\" stroke=\"black\" points=\"734.5,-82.5 734.5,-118.5 \"/>\n<text text-anchor=\"middle\" x=\"775.5\" y=\"-96.8\" font-family=\"Times,serif\" font-size=\"14.00\">grad 0.0000</text>\n</g>\n<!-- 139509372079248+ -->\n<g id=\"node4\" class=\"node\">\n<title>139509372079248+</title>\n<ellipse fill=\"none\" stroke=\"black\" cx=\"881\" cy=\"-127.5\" rx=\"27\" ry=\"18\"/>\n<text text-anchor=\"middle\" x=\"881\" y=\"-123.8\" font-family=\"Times,serif\" font-size=\"14.00\">+</text>\n</g>\n<!-- 139509372079120&#45;&gt;139509372079248+ -->\n<g id=\"edge14\" class=\"edge\">\n<title>139509372079120&#45;&gt;139509372079248+</title>\n<path fill=\"none\" stroke=\"black\" d=\"M816.68,-116.36C826.61,-118.11 836.23,-119.8 844.84,-121.32\"/>\n<polygon fill=\"black\" stroke=\"black\" points=\"844.36,-124.78 854.81,-123.07 845.57,-117.89 844.36,-124.78\"/>\n</g>\n<!-- 139509372079120+ -->\n<g id=\"node2\" class=\"node\">\n<title>139509372079120+</title>\n<ellipse fill=\"none\" stroke=\"black\" cx=\"570\" cy=\"-100.5\" rx=\"27\" ry=\"18\"/>\n<text text-anchor=\"middle\" x=\"570\" y=\"-96.8\" font-family=\"Times,serif\" font-size=\"14.00\">+</text>\n</g>\n<!-- 139509372079120+&#45;&gt;139509372079120 -->\n<g id=\"edge1\" class=\"edge\">\n<title>139509372079120+&#45;&gt;139509372079120</title>\n<path fill=\"none\" stroke=\"black\" d=\"M597.04,-100.5C605.06,-100.5 614.41,-100.5 624.35,-100.5\"/>\n<polygon fill=\"black\" stroke=\"black\" points=\"624.45,-104 634.45,-100.5 624.45,-97 624.45,-104\"/>\n</g>\n<!-- 139509372079248 -->\n<g id=\"node3\" class=\"node\">\n<title>139509372079248</title>\n<polygon fill=\"none\" stroke=\"black\" points=\"944,-109.5 944,-145.5 1126,-145.5 1126,-109.5 944,-109.5\"/>\n<text text-anchor=\"middle\" x=\"954\" y=\"-123.8\" font-family=\"Times,serif\" font-size=\"14.00\"> </text>\n<polyline fill=\"none\" stroke=\"black\" points=\"964,-109.5 964,-145.5 \"/>\n<text text-anchor=\"middle\" x=\"1004\" y=\"-123.8\" font-family=\"Times,serif\" font-size=\"14.00\">data 6.0500</text>\n<polyline fill=\"none\" stroke=\"black\" points=\"1044,-109.5 1044,-145.5 \"/>\n<text text-anchor=\"middle\" x=\"1085\" y=\"-123.8\" font-family=\"Times,serif\" font-size=\"14.00\">grad 0.0000</text>\n</g>\n<!-- 139509372079376relu -->\n<g id=\"node9\" class=\"node\">\n<title>139509372079376relu</title>\n<ellipse fill=\"none\" stroke=\"black\" cx=\"1189\" cy=\"-127.5\" rx=\"27\" ry=\"18\"/>\n<text text-anchor=\"middle\" x=\"1189\" y=\"-123.8\" font-family=\"Times,serif\" font-size=\"14.00\">relu</text>\n</g>\n<!-- 139509372079248&#45;&gt;139509372079376relu -->\n<g id=\"edge8\" class=\"edge\">\n<title>139509372079248&#45;&gt;139509372079376relu</title>\n<path fill=\"none\" stroke=\"black\" d=\"M1126.18,-127.5C1135.14,-127.5 1143.83,-127.5 1151.73,-127.5\"/>\n<polygon fill=\"black\" stroke=\"black\" points=\"1151.96,-131 1161.96,-127.5 1151.96,-124 1151.96,-131\"/>\n</g>\n<!-- 139509372079248+&#45;&gt;139509372079248 -->\n<g id=\"edge2\" class=\"edge\">\n<title>139509372079248+&#45;&gt;139509372079248</title>\n<path fill=\"none\" stroke=\"black\" d=\"M908.13,-127.5C915.67,-127.5 924.39,-127.5 933.64,-127.5\"/>\n<polygon fill=\"black\" stroke=\"black\" points=\"933.87,-131 943.87,-127.5 933.87,-124 933.87,-131\"/>\n</g>\n<!-- 139509372191888 -->\n<g id=\"node5\" class=\"node\">\n<title>139509372191888</title>\n<polygon fill=\"none\" stroke=\"black\" points=\"2,-165.5 2,-201.5 197,-201.5 197,-165.5 2,-165.5\"/>\n<text text-anchor=\"middle\" x=\"18.5\" y=\"-179.8\" font-family=\"Times,serif\" font-size=\"14.00\">w2</text>\n<polyline fill=\"none\" stroke=\"black\" points=\"35,-165.5 35,-201.5 \"/>\n<text text-anchor=\"middle\" x=\"75\" y=\"-179.8\" font-family=\"Times,serif\" font-size=\"14.00\">data 0.1700</text>\n<polyline fill=\"none\" stroke=\"black\" points=\"115,-165.5 115,-201.5 \"/>\n<text text-anchor=\"middle\" x=\"156\" y=\"-179.8\" font-family=\"Times,serif\" font-size=\"14.00\">grad 0.0000</text>\n</g>\n<!-- 139509372084112* -->\n<g id=\"node13\" class=\"node\">\n<title>139509372084112*</title>\n<ellipse fill=\"none\" stroke=\"black\" cx=\"262\" cy=\"-128.5\" rx=\"27\" ry=\"18\"/>\n<text text-anchor=\"middle\" x=\"262\" y=\"-124.8\" font-family=\"Times,serif\" font-size=\"14.00\">*</text>\n</g>\n<!-- 139509372191888&#45;&gt;139509372084112* -->\n<g id=\"edge6\" class=\"edge\">\n<title>139509372191888&#45;&gt;139509372084112*</title>\n<path fill=\"none\" stroke=\"black\" d=\"M171.67,-165.42C180.93,-162.65 190.24,-159.66 199,-156.5 209.53,-152.71 220.75,-147.89 230.72,-143.32\"/>\n<polygon fill=\"black\" stroke=\"black\" points=\"232.25,-146.47 239.82,-139.06 229.28,-140.13 232.25,-146.47\"/>\n</g>\n<!-- 139509403469520 -->\n<g id=\"node6\" class=\"node\">\n<title>139509403469520</title>\n<polygon fill=\"none\" stroke=\"black\" points=\"2,-55.5 2,-91.5 197,-91.5 197,-55.5 2,-55.5\"/>\n<text text-anchor=\"middle\" x=\"18.5\" y=\"-69.8\" font-family=\"Times,serif\" font-size=\"14.00\">w1</text>\n<polyline fill=\"none\" stroke=\"black\" points=\"35,-55.5 35,-91.5 \"/>\n<text text-anchor=\"middle\" x=\"75\" y=\"-69.8\" font-family=\"Times,serif\" font-size=\"14.00\">data 0.2000</text>\n<polyline fill=\"none\" stroke=\"black\" points=\"115,-55.5 115,-91.5 \"/>\n<text text-anchor=\"middle\" x=\"156\" y=\"-69.8\" font-family=\"Times,serif\" font-size=\"14.00\">grad 0.0000</text>\n</g>\n<!-- 139509372088784* -->\n<g id=\"node15\" class=\"node\">\n<title>139509372088784*</title>\n<ellipse fill=\"none\" stroke=\"black\" cx=\"262\" cy=\"-73.5\" rx=\"27\" ry=\"18\"/>\n<text text-anchor=\"middle\" x=\"262\" y=\"-69.8\" font-family=\"Times,serif\" font-size=\"14.00\">*</text>\n</g>\n<!-- 139509403469520&#45;&gt;139509372088784* -->\n<g id=\"edge10\" class=\"edge\">\n<title>139509403469520&#45;&gt;139509372088784*</title>\n<path fill=\"none\" stroke=\"black\" d=\"M197.1,-73.5C206.81,-73.5 216.19,-73.5 224.63,-73.5\"/>\n<polygon fill=\"black\" stroke=\"black\" points=\"224.78,-77 234.78,-73.5 224.78,-70 224.78,-77\"/>\n</g>\n<!-- 139509372192016 -->\n<g id=\"node7\" class=\"node\">\n<title>139509372192016</title>\n<polygon fill=\"none\" stroke=\"black\" points=\"633,-137.5 633,-173.5 818,-173.5 818,-137.5 633,-137.5\"/>\n<text text-anchor=\"middle\" x=\"644.5\" y=\"-151.8\" font-family=\"Times,serif\" font-size=\"14.00\">b</text>\n<polyline fill=\"none\" stroke=\"black\" points=\"656,-137.5 656,-173.5 \"/>\n<text text-anchor=\"middle\" x=\"696\" y=\"-151.8\" font-family=\"Times,serif\" font-size=\"14.00\">data 1.5000</text>\n<polyline fill=\"none\" stroke=\"black\" points=\"736,-137.5 736,-173.5 \"/>\n<text text-anchor=\"middle\" x=\"777\" y=\"-151.8\" font-family=\"Times,serif\" font-size=\"14.00\">grad 0.0000</text>\n</g>\n<!-- 139509372192016&#45;&gt;139509372079248+ -->\n<g id=\"edge12\" class=\"edge\">\n<title>139509372192016&#45;&gt;139509372079248+</title>\n<path fill=\"none\" stroke=\"black\" d=\"M818.01,-138.81C827.49,-137.08 836.66,-135.41 844.9,-133.9\"/>\n<polygon fill=\"black\" stroke=\"black\" points=\"845.6,-137.33 854.81,-132.09 844.35,-130.45 845.6,-137.33\"/>\n</g>\n<!-- 139509372079376 -->\n<g id=\"node8\" class=\"node\">\n<title>139509372079376</title>\n<polygon fill=\"none\" stroke=\"black\" points=\"1252,-109.5 1252,-145.5 1434,-145.5 1434,-109.5 1252,-109.5\"/>\n<text text-anchor=\"middle\" x=\"1262\" y=\"-123.8\" font-family=\"Times,serif\" font-size=\"14.00\"> </text>\n<polyline fill=\"none\" stroke=\"black\" points=\"1272,-109.5 1272,-145.5 \"/>\n<text text-anchor=\"middle\" x=\"1312\" y=\"-123.8\" font-family=\"Times,serif\" font-size=\"14.00\">data 6.0500</text>\n<polyline fill=\"none\" stroke=\"black\" points=\"1352,-109.5 1352,-145.5 \"/>\n<text text-anchor=\"middle\" x=\"1393\" y=\"-123.8\" font-family=\"Times,serif\" font-size=\"14.00\">grad 0.0000</text>\n</g>\n<!-- 139509372079376relu&#45;&gt;139509372079376 -->\n<g id=\"edge3\" class=\"edge\">\n<title>139509372079376relu&#45;&gt;139509372079376</title>\n<path fill=\"none\" stroke=\"black\" d=\"M1216.13,-127.5C1223.67,-127.5 1232.39,-127.5 1241.64,-127.5\"/>\n<polygon fill=\"black\" stroke=\"black\" points=\"1241.87,-131 1251.87,-127.5 1241.87,-124 1241.87,-131\"/>\n</g>\n<!-- 139509370374480 -->\n<g id=\"node10\" class=\"node\">\n<title>139509370374480</title>\n<polygon fill=\"none\" stroke=\"black\" points=\"0,-110.5 0,-146.5 199,-146.5 199,-110.5 0,-110.5\"/>\n<text text-anchor=\"middle\" x=\"15\" y=\"-124.8\" font-family=\"Times,serif\" font-size=\"14.00\">x2</text>\n<polyline fill=\"none\" stroke=\"black\" points=\"30,-110.5 30,-146.5 \"/>\n<text text-anchor=\"middle\" x=\"73.5\" y=\"-124.8\" font-family=\"Times,serif\" font-size=\"14.00\">data 15.0000</text>\n<polyline fill=\"none\" stroke=\"black\" points=\"117,-110.5 117,-146.5 \"/>\n<text text-anchor=\"middle\" x=\"158\" y=\"-124.8\" font-family=\"Times,serif\" font-size=\"14.00\">grad 0.0000</text>\n</g>\n<!-- 139509370374480&#45;&gt;139509372084112* -->\n<g id=\"edge7\" class=\"edge\">\n<title>139509370374480&#45;&gt;139509372084112*</title>\n<path fill=\"none\" stroke=\"black\" d=\"M199.41,-128.5C208.36,-128.5 216.99,-128.5 224.82,-128.5\"/>\n<polygon fill=\"black\" stroke=\"black\" points=\"224.93,-132 234.93,-128.5 224.93,-125 224.93,-132\"/>\n</g>\n<!-- 139509370373456 -->\n<g id=\"node11\" class=\"node\">\n<title>139509370373456</title>\n<polygon fill=\"none\" stroke=\"black\" points=\"0,-0.5 0,-36.5 199,-36.5 199,-0.5 0,-0.5\"/>\n<text text-anchor=\"middle\" x=\"15\" y=\"-14.8\" font-family=\"Times,serif\" font-size=\"14.00\">x1</text>\n<polyline fill=\"none\" stroke=\"black\" points=\"30,-0.5 30,-36.5 \"/>\n<text text-anchor=\"middle\" x=\"73.5\" y=\"-14.8\" font-family=\"Times,serif\" font-size=\"14.00\">data 10.0000</text>\n<polyline fill=\"none\" stroke=\"black\" points=\"117,-0.5 117,-36.5 \"/>\n<text text-anchor=\"middle\" x=\"158\" y=\"-14.8\" font-family=\"Times,serif\" font-size=\"14.00\">grad 0.0000</text>\n</g>\n<!-- 139509370373456&#45;&gt;139509372088784* -->\n<g id=\"edge13\" class=\"edge\">\n<title>139509370373456&#45;&gt;139509372088784*</title>\n<path fill=\"none\" stroke=\"black\" d=\"M168.44,-36.52C178.75,-39.63 189.21,-42.99 199,-46.5 209.28,-50.18 220.27,-54.75 230.1,-59.08\"/>\n<polygon fill=\"black\" stroke=\"black\" points=\"228.92,-62.38 239.48,-63.28 231.79,-56 228.92,-62.38\"/>\n</g>\n<!-- 139509372084112 -->\n<g id=\"node12\" class=\"node\">\n<title>139509372084112</title>\n<polygon fill=\"none\" stroke=\"black\" points=\"325,-110.5 325,-146.5 507,-146.5 507,-110.5 325,-110.5\"/>\n<text text-anchor=\"middle\" x=\"335\" y=\"-124.8\" font-family=\"Times,serif\" font-size=\"14.00\"> </text>\n<polyline fill=\"none\" stroke=\"black\" points=\"345,-110.5 345,-146.5 \"/>\n<text text-anchor=\"middle\" x=\"385\" y=\"-124.8\" font-family=\"Times,serif\" font-size=\"14.00\">data 2.5500</text>\n<polyline fill=\"none\" stroke=\"black\" points=\"425,-110.5 425,-146.5 \"/>\n<text text-anchor=\"middle\" x=\"466\" y=\"-124.8\" font-family=\"Times,serif\" font-size=\"14.00\">grad 0.0000</text>\n</g>\n<!-- 139509372084112&#45;&gt;139509372079120+ -->\n<g id=\"edge9\" class=\"edge\">\n<title>139509372084112&#45;&gt;139509372079120+</title>\n<path fill=\"none\" stroke=\"black\" d=\"M507.18,-111.89C516.61,-110.15 525.75,-108.47 533.98,-106.95\"/>\n<polygon fill=\"black\" stroke=\"black\" points=\"534.66,-110.39 543.86,-105.13 533.39,-103.5 534.66,-110.39\"/>\n</g>\n<!-- 139509372084112*&#45;&gt;139509372084112 -->\n<g id=\"edge4\" class=\"edge\">\n<title>139509372084112*&#45;&gt;139509372084112</title>\n<path fill=\"none\" stroke=\"black\" d=\"M289.13,-128.5C296.67,-128.5 305.39,-128.5 314.64,-128.5\"/>\n<polygon fill=\"black\" stroke=\"black\" points=\"314.87,-132 324.87,-128.5 314.87,-125 314.87,-132\"/>\n</g>\n<!-- 139509372088784 -->\n<g id=\"node14\" class=\"node\">\n<title>139509372088784</title>\n<polygon fill=\"none\" stroke=\"black\" points=\"325,-55.5 325,-91.5 507,-91.5 507,-55.5 325,-55.5\"/>\n<text text-anchor=\"middle\" x=\"335\" y=\"-69.8\" font-family=\"Times,serif\" font-size=\"14.00\"> </text>\n<polyline fill=\"none\" stroke=\"black\" points=\"345,-55.5 345,-91.5 \"/>\n<text text-anchor=\"middle\" x=\"385\" y=\"-69.8\" font-family=\"Times,serif\" font-size=\"14.00\">data 2.0000</text>\n<polyline fill=\"none\" stroke=\"black\" points=\"425,-55.5 425,-91.5 \"/>\n<text text-anchor=\"middle\" x=\"466\" y=\"-69.8\" font-family=\"Times,serif\" font-size=\"14.00\">grad 0.0000</text>\n</g>\n<!-- 139509372088784&#45;&gt;139509372079120+ -->\n<g id=\"edge11\" class=\"edge\">\n<title>139509372088784&#45;&gt;139509372079120+</title>\n<path fill=\"none\" stroke=\"black\" d=\"M507.18,-89.52C516.42,-91.16 525.38,-92.75 533.47,-94.19\"/>\n<polygon fill=\"black\" stroke=\"black\" points=\"533.1,-97.68 543.56,-95.98 534.32,-90.79 533.1,-97.68\"/>\n</g>\n<!-- 139509372088784*&#45;&gt;139509372088784 -->\n<g id=\"edge5\" class=\"edge\">\n<title>139509372088784*&#45;&gt;139509372088784</title>\n<path fill=\"none\" stroke=\"black\" d=\"M289.13,-73.5C296.67,-73.5 305.39,-73.5 314.64,-73.5\"/>\n<polygon fill=\"black\" stroke=\"black\" points=\"314.87,-77 324.87,-73.5 314.87,-70 314.87,-77\"/>\n</g>\n</g>\n</svg>\n",
            "text/plain": [
              "<graphviz.graphs.Digraph at 0x7ee20e76f250>"
            ]
          },
          "metadata": {},
          "execution_count": 145
        }
      ]
    },
    {
      "cell_type": "code",
      "source": [
        "draw_dot(o2)"
      ],
      "metadata": {
        "colab": {
          "base_uri": "https://localhost:8080/",
          "height": 321
        },
        "id": "Ilm3nGCUd7pQ",
        "outputId": "9795f4df-7b60-481b-fc10-b858c587cb0c"
      },
      "execution_count": 146,
      "outputs": [
        {
          "output_type": "execute_result",
          "data": {
            "image/svg+xml": "<?xml version=\"1.0\" encoding=\"UTF-8\" standalone=\"no\"?>\n<!DOCTYPE svg PUBLIC \"-//W3C//DTD SVG 1.1//EN\"\n \"http://www.w3.org/Graphics/SVG/1.1/DTD/svg11.dtd\">\n<!-- Generated by graphviz version 2.43.0 (0)\n -->\n<!-- Title: %3 Pages: 1 -->\n<svg width=\"1442pt\" height=\"210pt\"\n viewBox=\"0.00 0.00 1442.00 210.00\" xmlns=\"http://www.w3.org/2000/svg\" xmlns:xlink=\"http://www.w3.org/1999/xlink\">\n<g id=\"graph0\" class=\"graph\" transform=\"scale(1 1) rotate(0) translate(4 206)\">\n<title>%3</title>\n<polygon fill=\"white\" stroke=\"transparent\" points=\"-4,4 -4,-206 1438,-206 1438,4 -4,4\"/>\n<!-- 139509372079120 -->\n<g id=\"node1\" class=\"node\">\n<title>139509372079120</title>\n<polygon fill=\"none\" stroke=\"black\" points=\"634.5,-82.5 634.5,-118.5 816.5,-118.5 816.5,-82.5 634.5,-82.5\"/>\n<text text-anchor=\"middle\" x=\"644.5\" y=\"-96.8\" font-family=\"Times,serif\" font-size=\"14.00\"> </text>\n<polyline fill=\"none\" stroke=\"black\" points=\"654.5,-82.5 654.5,-118.5 \"/>\n<text text-anchor=\"middle\" x=\"694.5\" y=\"-96.8\" font-family=\"Times,serif\" font-size=\"14.00\">data 4.5500</text>\n<polyline fill=\"none\" stroke=\"black\" points=\"734.5,-82.5 734.5,-118.5 \"/>\n<text text-anchor=\"middle\" x=\"775.5\" y=\"-96.8\" font-family=\"Times,serif\" font-size=\"14.00\">grad 0.0000</text>\n</g>\n<!-- 139509372079248+ -->\n<g id=\"node4\" class=\"node\">\n<title>139509372079248+</title>\n<ellipse fill=\"none\" stroke=\"black\" cx=\"881\" cy=\"-127.5\" rx=\"27\" ry=\"18\"/>\n<text text-anchor=\"middle\" x=\"881\" y=\"-123.8\" font-family=\"Times,serif\" font-size=\"14.00\">+</text>\n</g>\n<!-- 139509372079120&#45;&gt;139509372079248+ -->\n<g id=\"edge14\" class=\"edge\">\n<title>139509372079120&#45;&gt;139509372079248+</title>\n<path fill=\"none\" stroke=\"black\" d=\"M816.68,-116.36C826.61,-118.11 836.23,-119.8 844.84,-121.32\"/>\n<polygon fill=\"black\" stroke=\"black\" points=\"844.36,-124.78 854.81,-123.07 845.57,-117.89 844.36,-124.78\"/>\n</g>\n<!-- 139509372079120+ -->\n<g id=\"node2\" class=\"node\">\n<title>139509372079120+</title>\n<ellipse fill=\"none\" stroke=\"black\" cx=\"570\" cy=\"-100.5\" rx=\"27\" ry=\"18\"/>\n<text text-anchor=\"middle\" x=\"570\" y=\"-96.8\" font-family=\"Times,serif\" font-size=\"14.00\">+</text>\n</g>\n<!-- 139509372079120+&#45;&gt;139509372079120 -->\n<g id=\"edge1\" class=\"edge\">\n<title>139509372079120+&#45;&gt;139509372079120</title>\n<path fill=\"none\" stroke=\"black\" d=\"M597.04,-100.5C605.06,-100.5 614.41,-100.5 624.35,-100.5\"/>\n<polygon fill=\"black\" stroke=\"black\" points=\"624.45,-104 634.45,-100.5 624.45,-97 624.45,-104\"/>\n</g>\n<!-- 139509372079248 -->\n<g id=\"node3\" class=\"node\">\n<title>139509372079248</title>\n<polygon fill=\"none\" stroke=\"black\" points=\"944,-109.5 944,-145.5 1126,-145.5 1126,-109.5 944,-109.5\"/>\n<text text-anchor=\"middle\" x=\"954\" y=\"-123.8\" font-family=\"Times,serif\" font-size=\"14.00\"> </text>\n<polyline fill=\"none\" stroke=\"black\" points=\"964,-109.5 964,-145.5 \"/>\n<text text-anchor=\"middle\" x=\"1004\" y=\"-123.8\" font-family=\"Times,serif\" font-size=\"14.00\">data 6.0500</text>\n<polyline fill=\"none\" stroke=\"black\" points=\"1044,-109.5 1044,-145.5 \"/>\n<text text-anchor=\"middle\" x=\"1085\" y=\"-123.8\" font-family=\"Times,serif\" font-size=\"14.00\">grad 0.0000</text>\n</g>\n<!-- 139509370302352tanh -->\n<g id=\"node13\" class=\"node\">\n<title>139509370302352tanh</title>\n<ellipse fill=\"none\" stroke=\"black\" cx=\"1189\" cy=\"-127.5\" rx=\"27\" ry=\"18\"/>\n<text text-anchor=\"middle\" x=\"1189\" y=\"-123.8\" font-family=\"Times,serif\" font-size=\"14.00\">tanh</text>\n</g>\n<!-- 139509372079248&#45;&gt;139509370302352tanh -->\n<g id=\"edge12\" class=\"edge\">\n<title>139509372079248&#45;&gt;139509370302352tanh</title>\n<path fill=\"none\" stroke=\"black\" d=\"M1126.18,-127.5C1135.14,-127.5 1143.83,-127.5 1151.73,-127.5\"/>\n<polygon fill=\"black\" stroke=\"black\" points=\"1151.96,-131 1161.96,-127.5 1151.96,-124 1151.96,-131\"/>\n</g>\n<!-- 139509372079248+&#45;&gt;139509372079248 -->\n<g id=\"edge2\" class=\"edge\">\n<title>139509372079248+&#45;&gt;139509372079248</title>\n<path fill=\"none\" stroke=\"black\" d=\"M908.13,-127.5C915.67,-127.5 924.39,-127.5 933.64,-127.5\"/>\n<polygon fill=\"black\" stroke=\"black\" points=\"933.87,-131 943.87,-127.5 933.87,-124 933.87,-131\"/>\n</g>\n<!-- 139509372191888 -->\n<g id=\"node5\" class=\"node\">\n<title>139509372191888</title>\n<polygon fill=\"none\" stroke=\"black\" points=\"2,-165.5 2,-201.5 197,-201.5 197,-165.5 2,-165.5\"/>\n<text text-anchor=\"middle\" x=\"18.5\" y=\"-179.8\" font-family=\"Times,serif\" font-size=\"14.00\">w2</text>\n<polyline fill=\"none\" stroke=\"black\" points=\"35,-165.5 35,-201.5 \"/>\n<text text-anchor=\"middle\" x=\"75\" y=\"-179.8\" font-family=\"Times,serif\" font-size=\"14.00\">data 0.1700</text>\n<polyline fill=\"none\" stroke=\"black\" points=\"115,-165.5 115,-201.5 \"/>\n<text text-anchor=\"middle\" x=\"156\" y=\"-179.8\" font-family=\"Times,serif\" font-size=\"14.00\">grad 0.0000</text>\n</g>\n<!-- 139509372084112* -->\n<g id=\"node7\" class=\"node\">\n<title>139509372084112*</title>\n<ellipse fill=\"none\" stroke=\"black\" cx=\"262\" cy=\"-128.5\" rx=\"27\" ry=\"18\"/>\n<text text-anchor=\"middle\" x=\"262\" y=\"-124.8\" font-family=\"Times,serif\" font-size=\"14.00\">*</text>\n</g>\n<!-- 139509372191888&#45;&gt;139509372084112* -->\n<g id=\"edge6\" class=\"edge\">\n<title>139509372191888&#45;&gt;139509372084112*</title>\n<path fill=\"none\" stroke=\"black\" d=\"M171.67,-165.42C180.93,-162.65 190.24,-159.66 199,-156.5 209.53,-152.71 220.75,-147.89 230.72,-143.32\"/>\n<polygon fill=\"black\" stroke=\"black\" points=\"232.25,-146.47 239.82,-139.06 229.28,-140.13 232.25,-146.47\"/>\n</g>\n<!-- 139509372084112 -->\n<g id=\"node6\" class=\"node\">\n<title>139509372084112</title>\n<polygon fill=\"none\" stroke=\"black\" points=\"325,-110.5 325,-146.5 507,-146.5 507,-110.5 325,-110.5\"/>\n<text text-anchor=\"middle\" x=\"335\" y=\"-124.8\" font-family=\"Times,serif\" font-size=\"14.00\"> </text>\n<polyline fill=\"none\" stroke=\"black\" points=\"345,-110.5 345,-146.5 \"/>\n<text text-anchor=\"middle\" x=\"385\" y=\"-124.8\" font-family=\"Times,serif\" font-size=\"14.00\">data 2.5500</text>\n<polyline fill=\"none\" stroke=\"black\" points=\"425,-110.5 425,-146.5 \"/>\n<text text-anchor=\"middle\" x=\"466\" y=\"-124.8\" font-family=\"Times,serif\" font-size=\"14.00\">grad 0.0000</text>\n</g>\n<!-- 139509372084112&#45;&gt;139509372079120+ -->\n<g id=\"edge8\" class=\"edge\">\n<title>139509372084112&#45;&gt;139509372079120+</title>\n<path fill=\"none\" stroke=\"black\" d=\"M507.18,-111.89C516.61,-110.15 525.75,-108.47 533.98,-106.95\"/>\n<polygon fill=\"black\" stroke=\"black\" points=\"534.66,-110.39 543.86,-105.13 533.39,-103.5 534.66,-110.39\"/>\n</g>\n<!-- 139509372084112*&#45;&gt;139509372084112 -->\n<g id=\"edge3\" class=\"edge\">\n<title>139509372084112*&#45;&gt;139509372084112</title>\n<path fill=\"none\" stroke=\"black\" d=\"M289.13,-128.5C296.67,-128.5 305.39,-128.5 314.64,-128.5\"/>\n<polygon fill=\"black\" stroke=\"black\" points=\"314.87,-132 324.87,-128.5 314.87,-125 314.87,-132\"/>\n</g>\n<!-- 139509403469520 -->\n<g id=\"node8\" class=\"node\">\n<title>139509403469520</title>\n<polygon fill=\"none\" stroke=\"black\" points=\"2,-55.5 2,-91.5 197,-91.5 197,-55.5 2,-55.5\"/>\n<text text-anchor=\"middle\" x=\"18.5\" y=\"-69.8\" font-family=\"Times,serif\" font-size=\"14.00\">w1</text>\n<polyline fill=\"none\" stroke=\"black\" points=\"35,-55.5 35,-91.5 \"/>\n<text text-anchor=\"middle\" x=\"75\" y=\"-69.8\" font-family=\"Times,serif\" font-size=\"14.00\">data 0.2000</text>\n<polyline fill=\"none\" stroke=\"black\" points=\"115,-55.5 115,-91.5 \"/>\n<text text-anchor=\"middle\" x=\"156\" y=\"-69.8\" font-family=\"Times,serif\" font-size=\"14.00\">grad 0.0000</text>\n</g>\n<!-- 139509372088784* -->\n<g id=\"node15\" class=\"node\">\n<title>139509372088784*</title>\n<ellipse fill=\"none\" stroke=\"black\" cx=\"262\" cy=\"-73.5\" rx=\"27\" ry=\"18\"/>\n<text text-anchor=\"middle\" x=\"262\" y=\"-69.8\" font-family=\"Times,serif\" font-size=\"14.00\">*</text>\n</g>\n<!-- 139509403469520&#45;&gt;139509372088784* -->\n<g id=\"edge9\" class=\"edge\">\n<title>139509403469520&#45;&gt;139509372088784*</title>\n<path fill=\"none\" stroke=\"black\" d=\"M197.1,-73.5C206.81,-73.5 216.19,-73.5 224.63,-73.5\"/>\n<polygon fill=\"black\" stroke=\"black\" points=\"224.78,-77 234.78,-73.5 224.78,-70 224.78,-77\"/>\n</g>\n<!-- 139509372192016 -->\n<g id=\"node9\" class=\"node\">\n<title>139509372192016</title>\n<polygon fill=\"none\" stroke=\"black\" points=\"633,-137.5 633,-173.5 818,-173.5 818,-137.5 633,-137.5\"/>\n<text text-anchor=\"middle\" x=\"644.5\" y=\"-151.8\" font-family=\"Times,serif\" font-size=\"14.00\">b</text>\n<polyline fill=\"none\" stroke=\"black\" points=\"656,-137.5 656,-173.5 \"/>\n<text text-anchor=\"middle\" x=\"696\" y=\"-151.8\" font-family=\"Times,serif\" font-size=\"14.00\">data 1.5000</text>\n<polyline fill=\"none\" stroke=\"black\" points=\"736,-137.5 736,-173.5 \"/>\n<text text-anchor=\"middle\" x=\"777\" y=\"-151.8\" font-family=\"Times,serif\" font-size=\"14.00\">grad 0.0000</text>\n</g>\n<!-- 139509372192016&#45;&gt;139509372079248+ -->\n<g id=\"edge11\" class=\"edge\">\n<title>139509372192016&#45;&gt;139509372079248+</title>\n<path fill=\"none\" stroke=\"black\" d=\"M818.01,-138.81C827.49,-137.08 836.66,-135.41 844.9,-133.9\"/>\n<polygon fill=\"black\" stroke=\"black\" points=\"845.6,-137.33 854.81,-132.09 844.35,-130.45 845.6,-137.33\"/>\n</g>\n<!-- 139509370374480 -->\n<g id=\"node10\" class=\"node\">\n<title>139509370374480</title>\n<polygon fill=\"none\" stroke=\"black\" points=\"0,-110.5 0,-146.5 199,-146.5 199,-110.5 0,-110.5\"/>\n<text text-anchor=\"middle\" x=\"15\" y=\"-124.8\" font-family=\"Times,serif\" font-size=\"14.00\">x2</text>\n<polyline fill=\"none\" stroke=\"black\" points=\"30,-110.5 30,-146.5 \"/>\n<text text-anchor=\"middle\" x=\"73.5\" y=\"-124.8\" font-family=\"Times,serif\" font-size=\"14.00\">data 15.0000</text>\n<polyline fill=\"none\" stroke=\"black\" points=\"117,-110.5 117,-146.5 \"/>\n<text text-anchor=\"middle\" x=\"158\" y=\"-124.8\" font-family=\"Times,serif\" font-size=\"14.00\">grad 0.0000</text>\n</g>\n<!-- 139509370374480&#45;&gt;139509372084112* -->\n<g id=\"edge7\" class=\"edge\">\n<title>139509370374480&#45;&gt;139509372084112*</title>\n<path fill=\"none\" stroke=\"black\" d=\"M199.41,-128.5C208.36,-128.5 216.99,-128.5 224.82,-128.5\"/>\n<polygon fill=\"black\" stroke=\"black\" points=\"224.93,-132 234.93,-128.5 224.93,-125 224.93,-132\"/>\n</g>\n<!-- 139509370373456 -->\n<g id=\"node11\" class=\"node\">\n<title>139509370373456</title>\n<polygon fill=\"none\" stroke=\"black\" points=\"0,-0.5 0,-36.5 199,-36.5 199,-0.5 0,-0.5\"/>\n<text text-anchor=\"middle\" x=\"15\" y=\"-14.8\" font-family=\"Times,serif\" font-size=\"14.00\">x1</text>\n<polyline fill=\"none\" stroke=\"black\" points=\"30,-0.5 30,-36.5 \"/>\n<text text-anchor=\"middle\" x=\"73.5\" y=\"-14.8\" font-family=\"Times,serif\" font-size=\"14.00\">data 10.0000</text>\n<polyline fill=\"none\" stroke=\"black\" points=\"117,-0.5 117,-36.5 \"/>\n<text text-anchor=\"middle\" x=\"158\" y=\"-14.8\" font-family=\"Times,serif\" font-size=\"14.00\">grad 0.0000</text>\n</g>\n<!-- 139509370373456&#45;&gt;139509372088784* -->\n<g id=\"edge13\" class=\"edge\">\n<title>139509370373456&#45;&gt;139509372088784*</title>\n<path fill=\"none\" stroke=\"black\" d=\"M168.44,-36.52C178.75,-39.63 189.21,-42.99 199,-46.5 209.28,-50.18 220.27,-54.75 230.1,-59.08\"/>\n<polygon fill=\"black\" stroke=\"black\" points=\"228.92,-62.38 239.48,-63.28 231.79,-56 228.92,-62.38\"/>\n</g>\n<!-- 139509370302352 -->\n<g id=\"node12\" class=\"node\">\n<title>139509370302352</title>\n<polygon fill=\"none\" stroke=\"black\" points=\"1252,-109.5 1252,-145.5 1434,-145.5 1434,-109.5 1252,-109.5\"/>\n<text text-anchor=\"middle\" x=\"1262\" y=\"-123.8\" font-family=\"Times,serif\" font-size=\"14.00\"> </text>\n<polyline fill=\"none\" stroke=\"black\" points=\"1272,-109.5 1272,-145.5 \"/>\n<text text-anchor=\"middle\" x=\"1312\" y=\"-123.8\" font-family=\"Times,serif\" font-size=\"14.00\">data 1.0000</text>\n<polyline fill=\"none\" stroke=\"black\" points=\"1352,-109.5 1352,-145.5 \"/>\n<text text-anchor=\"middle\" x=\"1393\" y=\"-123.8\" font-family=\"Times,serif\" font-size=\"14.00\">grad 0.0000</text>\n</g>\n<!-- 139509370302352tanh&#45;&gt;139509370302352 -->\n<g id=\"edge4\" class=\"edge\">\n<title>139509370302352tanh&#45;&gt;139509370302352</title>\n<path fill=\"none\" stroke=\"black\" d=\"M1216.13,-127.5C1223.67,-127.5 1232.39,-127.5 1241.64,-127.5\"/>\n<polygon fill=\"black\" stroke=\"black\" points=\"1241.87,-131 1251.87,-127.5 1241.87,-124 1241.87,-131\"/>\n</g>\n<!-- 139509372088784 -->\n<g id=\"node14\" class=\"node\">\n<title>139509372088784</title>\n<polygon fill=\"none\" stroke=\"black\" points=\"325,-55.5 325,-91.5 507,-91.5 507,-55.5 325,-55.5\"/>\n<text text-anchor=\"middle\" x=\"335\" y=\"-69.8\" font-family=\"Times,serif\" font-size=\"14.00\"> </text>\n<polyline fill=\"none\" stroke=\"black\" points=\"345,-55.5 345,-91.5 \"/>\n<text text-anchor=\"middle\" x=\"385\" y=\"-69.8\" font-family=\"Times,serif\" font-size=\"14.00\">data 2.0000</text>\n<polyline fill=\"none\" stroke=\"black\" points=\"425,-55.5 425,-91.5 \"/>\n<text text-anchor=\"middle\" x=\"466\" y=\"-69.8\" font-family=\"Times,serif\" font-size=\"14.00\">grad 0.0000</text>\n</g>\n<!-- 139509372088784&#45;&gt;139509372079120+ -->\n<g id=\"edge10\" class=\"edge\">\n<title>139509372088784&#45;&gt;139509372079120+</title>\n<path fill=\"none\" stroke=\"black\" d=\"M507.18,-89.52C516.42,-91.16 525.38,-92.75 533.47,-94.19\"/>\n<polygon fill=\"black\" stroke=\"black\" points=\"533.1,-97.68 543.56,-95.98 534.32,-90.79 533.1,-97.68\"/>\n</g>\n<!-- 139509372088784*&#45;&gt;139509372088784 -->\n<g id=\"edge5\" class=\"edge\">\n<title>139509372088784*&#45;&gt;139509372088784</title>\n<path fill=\"none\" stroke=\"black\" d=\"M289.13,-73.5C296.67,-73.5 305.39,-73.5 314.64,-73.5\"/>\n<polygon fill=\"black\" stroke=\"black\" points=\"314.87,-77 324.87,-73.5 314.87,-70 314.87,-77\"/>\n</g>\n</g>\n</svg>\n",
            "text/plain": [
              "<graphviz.graphs.Digraph at 0x7ee20e7654d0>"
            ]
          },
          "metadata": {},
          "execution_count": 146
        }
      ]
    },
    {
      "cell_type": "code",
      "source": [
        "draw_dot(o3)"
      ],
      "metadata": {
        "colab": {
          "base_uri": "https://localhost:8080/",
          "height": 321
        },
        "id": "NyWlSvOMeBpW",
        "outputId": "3428ada6-d497-4690-aa75-4644463693f2"
      },
      "execution_count": 147,
      "outputs": [
        {
          "output_type": "execute_result",
          "data": {
            "image/svg+xml": "<?xml version=\"1.0\" encoding=\"UTF-8\" standalone=\"no\"?>\n<!DOCTYPE svg PUBLIC \"-//W3C//DTD SVG 1.1//EN\"\n \"http://www.w3.org/Graphics/SVG/1.1/DTD/svg11.dtd\">\n<!-- Generated by graphviz version 2.43.0 (0)\n -->\n<!-- Title: %3 Pages: 1 -->\n<svg width=\"1467pt\" height=\"210pt\"\n viewBox=\"0.00 0.00 1467.29 210.00\" xmlns=\"http://www.w3.org/2000/svg\" xmlns:xlink=\"http://www.w3.org/1999/xlink\">\n<g id=\"graph0\" class=\"graph\" transform=\"scale(1 1) rotate(0) translate(4 206)\">\n<title>%3</title>\n<polygon fill=\"white\" stroke=\"transparent\" points=\"-4,4 -4,-206 1463.29,-206 1463.29,4 -4,4\"/>\n<!-- 139509372079120 -->\n<g id=\"node1\" class=\"node\">\n<title>139509372079120</title>\n<polygon fill=\"none\" stroke=\"black\" points=\"634.5,-82.5 634.5,-118.5 816.5,-118.5 816.5,-82.5 634.5,-82.5\"/>\n<text text-anchor=\"middle\" x=\"644.5\" y=\"-96.8\" font-family=\"Times,serif\" font-size=\"14.00\"> </text>\n<polyline fill=\"none\" stroke=\"black\" points=\"654.5,-82.5 654.5,-118.5 \"/>\n<text text-anchor=\"middle\" x=\"694.5\" y=\"-96.8\" font-family=\"Times,serif\" font-size=\"14.00\">data 4.5500</text>\n<polyline fill=\"none\" stroke=\"black\" points=\"734.5,-82.5 734.5,-118.5 \"/>\n<text text-anchor=\"middle\" x=\"775.5\" y=\"-96.8\" font-family=\"Times,serif\" font-size=\"14.00\">grad 0.0000</text>\n</g>\n<!-- 139509372079248+ -->\n<g id=\"node4\" class=\"node\">\n<title>139509372079248+</title>\n<ellipse fill=\"none\" stroke=\"black\" cx=\"881\" cy=\"-127.5\" rx=\"27\" ry=\"18\"/>\n<text text-anchor=\"middle\" x=\"881\" y=\"-123.8\" font-family=\"Times,serif\" font-size=\"14.00\">+</text>\n</g>\n<!-- 139509372079120&#45;&gt;139509372079248+ -->\n<g id=\"edge14\" class=\"edge\">\n<title>139509372079120&#45;&gt;139509372079248+</title>\n<path fill=\"none\" stroke=\"black\" d=\"M816.68,-116.36C826.61,-118.11 836.23,-119.8 844.84,-121.32\"/>\n<polygon fill=\"black\" stroke=\"black\" points=\"844.36,-124.78 854.81,-123.07 845.57,-117.89 844.36,-124.78\"/>\n</g>\n<!-- 139509372079120+ -->\n<g id=\"node2\" class=\"node\">\n<title>139509372079120+</title>\n<ellipse fill=\"none\" stroke=\"black\" cx=\"570\" cy=\"-100.5\" rx=\"27\" ry=\"18\"/>\n<text text-anchor=\"middle\" x=\"570\" y=\"-96.8\" font-family=\"Times,serif\" font-size=\"14.00\">+</text>\n</g>\n<!-- 139509372079120+&#45;&gt;139509372079120 -->\n<g id=\"edge1\" class=\"edge\">\n<title>139509372079120+&#45;&gt;139509372079120</title>\n<path fill=\"none\" stroke=\"black\" d=\"M597.04,-100.5C605.06,-100.5 614.41,-100.5 624.35,-100.5\"/>\n<polygon fill=\"black\" stroke=\"black\" points=\"624.45,-104 634.45,-100.5 624.45,-97 624.45,-104\"/>\n</g>\n<!-- 139509372079248 -->\n<g id=\"node3\" class=\"node\">\n<title>139509372079248</title>\n<polygon fill=\"none\" stroke=\"black\" points=\"944,-109.5 944,-145.5 1126,-145.5 1126,-109.5 944,-109.5\"/>\n<text text-anchor=\"middle\" x=\"954\" y=\"-123.8\" font-family=\"Times,serif\" font-size=\"14.00\"> </text>\n<polyline fill=\"none\" stroke=\"black\" points=\"964,-109.5 964,-145.5 \"/>\n<text text-anchor=\"middle\" x=\"1004\" y=\"-123.8\" font-family=\"Times,serif\" font-size=\"14.00\">data 6.0500</text>\n<polyline fill=\"none\" stroke=\"black\" points=\"1044,-109.5 1044,-145.5 \"/>\n<text text-anchor=\"middle\" x=\"1085\" y=\"-123.8\" font-family=\"Times,serif\" font-size=\"14.00\">grad 0.0000</text>\n</g>\n<!-- 139509400842192sigmoid -->\n<g id=\"node15\" class=\"node\">\n<title>139509400842192sigmoid</title>\n<ellipse fill=\"none\" stroke=\"black\" cx=\"1201.65\" cy=\"-127.5\" rx=\"39.79\" ry=\"18\"/>\n<text text-anchor=\"middle\" x=\"1201.65\" y=\"-123.8\" font-family=\"Times,serif\" font-size=\"14.00\">sigmoid</text>\n</g>\n<!-- 139509372079248&#45;&gt;139509400842192sigmoid -->\n<g id=\"edge11\" class=\"edge\">\n<title>139509372079248&#45;&gt;139509400842192sigmoid</title>\n<path fill=\"none\" stroke=\"black\" d=\"M1126.03,-127.5C1134.9,-127.5 1143.65,-127.5 1151.86,-127.5\"/>\n<polygon fill=\"black\" stroke=\"black\" points=\"1151.94,-131 1161.94,-127.5 1151.94,-124 1151.94,-131\"/>\n</g>\n<!-- 139509372079248+&#45;&gt;139509372079248 -->\n<g id=\"edge2\" class=\"edge\">\n<title>139509372079248+&#45;&gt;139509372079248</title>\n<path fill=\"none\" stroke=\"black\" d=\"M908.13,-127.5C915.67,-127.5 924.39,-127.5 933.64,-127.5\"/>\n<polygon fill=\"black\" stroke=\"black\" points=\"933.87,-131 943.87,-127.5 933.87,-124 933.87,-131\"/>\n</g>\n<!-- 139509372191888 -->\n<g id=\"node5\" class=\"node\">\n<title>139509372191888</title>\n<polygon fill=\"none\" stroke=\"black\" points=\"2,-55.5 2,-91.5 197,-91.5 197,-55.5 2,-55.5\"/>\n<text text-anchor=\"middle\" x=\"18.5\" y=\"-69.8\" font-family=\"Times,serif\" font-size=\"14.00\">w2</text>\n<polyline fill=\"none\" stroke=\"black\" points=\"35,-55.5 35,-91.5 \"/>\n<text text-anchor=\"middle\" x=\"75\" y=\"-69.8\" font-family=\"Times,serif\" font-size=\"14.00\">data 0.1700</text>\n<polyline fill=\"none\" stroke=\"black\" points=\"115,-55.5 115,-91.5 \"/>\n<text text-anchor=\"middle\" x=\"156\" y=\"-69.8\" font-family=\"Times,serif\" font-size=\"14.00\">grad 0.0000</text>\n</g>\n<!-- 139509372084112* -->\n<g id=\"node13\" class=\"node\">\n<title>139509372084112*</title>\n<ellipse fill=\"none\" stroke=\"black\" cx=\"262\" cy=\"-73.5\" rx=\"27\" ry=\"18\"/>\n<text text-anchor=\"middle\" x=\"262\" y=\"-69.8\" font-family=\"Times,serif\" font-size=\"14.00\">*</text>\n</g>\n<!-- 139509372191888&#45;&gt;139509372084112* -->\n<g id=\"edge6\" class=\"edge\">\n<title>139509372191888&#45;&gt;139509372084112*</title>\n<path fill=\"none\" stroke=\"black\" d=\"M197.1,-73.5C206.81,-73.5 216.19,-73.5 224.63,-73.5\"/>\n<polygon fill=\"black\" stroke=\"black\" points=\"224.78,-77 234.78,-73.5 224.78,-70 224.78,-77\"/>\n</g>\n<!-- 139509372088784 -->\n<g id=\"node6\" class=\"node\">\n<title>139509372088784</title>\n<polygon fill=\"none\" stroke=\"black\" points=\"325,-110.5 325,-146.5 507,-146.5 507,-110.5 325,-110.5\"/>\n<text text-anchor=\"middle\" x=\"335\" y=\"-124.8\" font-family=\"Times,serif\" font-size=\"14.00\"> </text>\n<polyline fill=\"none\" stroke=\"black\" points=\"345,-110.5 345,-146.5 \"/>\n<text text-anchor=\"middle\" x=\"385\" y=\"-124.8\" font-family=\"Times,serif\" font-size=\"14.00\">data 2.0000</text>\n<polyline fill=\"none\" stroke=\"black\" points=\"425,-110.5 425,-146.5 \"/>\n<text text-anchor=\"middle\" x=\"466\" y=\"-124.8\" font-family=\"Times,serif\" font-size=\"14.00\">grad 0.0000</text>\n</g>\n<!-- 139509372088784&#45;&gt;139509372079120+ -->\n<g id=\"edge10\" class=\"edge\">\n<title>139509372088784&#45;&gt;139509372079120+</title>\n<path fill=\"none\" stroke=\"black\" d=\"M507.18,-111.89C516.61,-110.15 525.75,-108.47 533.98,-106.95\"/>\n<polygon fill=\"black\" stroke=\"black\" points=\"534.66,-110.39 543.86,-105.13 533.39,-103.5 534.66,-110.39\"/>\n</g>\n<!-- 139509372088784* -->\n<g id=\"node7\" class=\"node\">\n<title>139509372088784*</title>\n<ellipse fill=\"none\" stroke=\"black\" cx=\"262\" cy=\"-128.5\" rx=\"27\" ry=\"18\"/>\n<text text-anchor=\"middle\" x=\"262\" y=\"-124.8\" font-family=\"Times,serif\" font-size=\"14.00\">*</text>\n</g>\n<!-- 139509372088784*&#45;&gt;139509372088784 -->\n<g id=\"edge3\" class=\"edge\">\n<title>139509372088784*&#45;&gt;139509372088784</title>\n<path fill=\"none\" stroke=\"black\" d=\"M289.13,-128.5C296.67,-128.5 305.39,-128.5 314.64,-128.5\"/>\n<polygon fill=\"black\" stroke=\"black\" points=\"314.87,-132 324.87,-128.5 314.87,-125 314.87,-132\"/>\n</g>\n<!-- 139509403469520 -->\n<g id=\"node8\" class=\"node\">\n<title>139509403469520</title>\n<polygon fill=\"none\" stroke=\"black\" points=\"2,-165.5 2,-201.5 197,-201.5 197,-165.5 2,-165.5\"/>\n<text text-anchor=\"middle\" x=\"18.5\" y=\"-179.8\" font-family=\"Times,serif\" font-size=\"14.00\">w1</text>\n<polyline fill=\"none\" stroke=\"black\" points=\"35,-165.5 35,-201.5 \"/>\n<text text-anchor=\"middle\" x=\"75\" y=\"-179.8\" font-family=\"Times,serif\" font-size=\"14.00\">data 0.2000</text>\n<polyline fill=\"none\" stroke=\"black\" points=\"115,-165.5 115,-201.5 \"/>\n<text text-anchor=\"middle\" x=\"156\" y=\"-179.8\" font-family=\"Times,serif\" font-size=\"14.00\">grad 0.0000</text>\n</g>\n<!-- 139509403469520&#45;&gt;139509372088784* -->\n<g id=\"edge9\" class=\"edge\">\n<title>139509403469520&#45;&gt;139509372088784*</title>\n<path fill=\"none\" stroke=\"black\" d=\"M171.67,-165.42C180.93,-162.65 190.24,-159.66 199,-156.5 209.53,-152.71 220.75,-147.89 230.72,-143.32\"/>\n<polygon fill=\"black\" stroke=\"black\" points=\"232.25,-146.47 239.82,-139.06 229.28,-140.13 232.25,-146.47\"/>\n</g>\n<!-- 139509372192016 -->\n<g id=\"node9\" class=\"node\">\n<title>139509372192016</title>\n<polygon fill=\"none\" stroke=\"black\" points=\"633,-137.5 633,-173.5 818,-173.5 818,-137.5 633,-137.5\"/>\n<text text-anchor=\"middle\" x=\"644.5\" y=\"-151.8\" font-family=\"Times,serif\" font-size=\"14.00\">b</text>\n<polyline fill=\"none\" stroke=\"black\" points=\"656,-137.5 656,-173.5 \"/>\n<text text-anchor=\"middle\" x=\"696\" y=\"-151.8\" font-family=\"Times,serif\" font-size=\"14.00\">data 1.5000</text>\n<polyline fill=\"none\" stroke=\"black\" points=\"736,-137.5 736,-173.5 \"/>\n<text text-anchor=\"middle\" x=\"777\" y=\"-151.8\" font-family=\"Times,serif\" font-size=\"14.00\">grad 0.0000</text>\n</g>\n<!-- 139509372192016&#45;&gt;139509372079248+ -->\n<g id=\"edge12\" class=\"edge\">\n<title>139509372192016&#45;&gt;139509372079248+</title>\n<path fill=\"none\" stroke=\"black\" d=\"M818.01,-138.81C827.49,-137.08 836.66,-135.41 844.9,-133.9\"/>\n<polygon fill=\"black\" stroke=\"black\" points=\"845.6,-137.33 854.81,-132.09 844.35,-130.45 845.6,-137.33\"/>\n</g>\n<!-- 139509370374480 -->\n<g id=\"node10\" class=\"node\">\n<title>139509370374480</title>\n<polygon fill=\"none\" stroke=\"black\" points=\"0,-0.5 0,-36.5 199,-36.5 199,-0.5 0,-0.5\"/>\n<text text-anchor=\"middle\" x=\"15\" y=\"-14.8\" font-family=\"Times,serif\" font-size=\"14.00\">x2</text>\n<polyline fill=\"none\" stroke=\"black\" points=\"30,-0.5 30,-36.5 \"/>\n<text text-anchor=\"middle\" x=\"73.5\" y=\"-14.8\" font-family=\"Times,serif\" font-size=\"14.00\">data 15.0000</text>\n<polyline fill=\"none\" stroke=\"black\" points=\"117,-0.5 117,-36.5 \"/>\n<text text-anchor=\"middle\" x=\"158\" y=\"-14.8\" font-family=\"Times,serif\" font-size=\"14.00\">grad 0.0000</text>\n</g>\n<!-- 139509370374480&#45;&gt;139509372084112* -->\n<g id=\"edge7\" class=\"edge\">\n<title>139509370374480&#45;&gt;139509372084112*</title>\n<path fill=\"none\" stroke=\"black\" d=\"M168.44,-36.52C178.75,-39.63 189.21,-42.99 199,-46.5 209.28,-50.18 220.27,-54.75 230.1,-59.08\"/>\n<polygon fill=\"black\" stroke=\"black\" points=\"228.92,-62.38 239.48,-63.28 231.79,-56 228.92,-62.38\"/>\n</g>\n<!-- 139509370373456 -->\n<g id=\"node11\" class=\"node\">\n<title>139509370373456</title>\n<polygon fill=\"none\" stroke=\"black\" points=\"0,-110.5 0,-146.5 199,-146.5 199,-110.5 0,-110.5\"/>\n<text text-anchor=\"middle\" x=\"15\" y=\"-124.8\" font-family=\"Times,serif\" font-size=\"14.00\">x1</text>\n<polyline fill=\"none\" stroke=\"black\" points=\"30,-110.5 30,-146.5 \"/>\n<text text-anchor=\"middle\" x=\"73.5\" y=\"-124.8\" font-family=\"Times,serif\" font-size=\"14.00\">data 10.0000</text>\n<polyline fill=\"none\" stroke=\"black\" points=\"117,-110.5 117,-146.5 \"/>\n<text text-anchor=\"middle\" x=\"158\" y=\"-124.8\" font-family=\"Times,serif\" font-size=\"14.00\">grad 0.0000</text>\n</g>\n<!-- 139509370373456&#45;&gt;139509372088784* -->\n<g id=\"edge13\" class=\"edge\">\n<title>139509370373456&#45;&gt;139509372088784*</title>\n<path fill=\"none\" stroke=\"black\" d=\"M199.41,-128.5C208.36,-128.5 216.99,-128.5 224.82,-128.5\"/>\n<polygon fill=\"black\" stroke=\"black\" points=\"224.93,-132 234.93,-128.5 224.93,-125 224.93,-132\"/>\n</g>\n<!-- 139509372084112 -->\n<g id=\"node12\" class=\"node\">\n<title>139509372084112</title>\n<polygon fill=\"none\" stroke=\"black\" points=\"325,-55.5 325,-91.5 507,-91.5 507,-55.5 325,-55.5\"/>\n<text text-anchor=\"middle\" x=\"335\" y=\"-69.8\" font-family=\"Times,serif\" font-size=\"14.00\"> </text>\n<polyline fill=\"none\" stroke=\"black\" points=\"345,-55.5 345,-91.5 \"/>\n<text text-anchor=\"middle\" x=\"385\" y=\"-69.8\" font-family=\"Times,serif\" font-size=\"14.00\">data 2.5500</text>\n<polyline fill=\"none\" stroke=\"black\" points=\"425,-55.5 425,-91.5 \"/>\n<text text-anchor=\"middle\" x=\"466\" y=\"-69.8\" font-family=\"Times,serif\" font-size=\"14.00\">grad 0.0000</text>\n</g>\n<!-- 139509372084112&#45;&gt;139509372079120+ -->\n<g id=\"edge8\" class=\"edge\">\n<title>139509372084112&#45;&gt;139509372079120+</title>\n<path fill=\"none\" stroke=\"black\" d=\"M507.18,-89.52C516.42,-91.16 525.38,-92.75 533.47,-94.19\"/>\n<polygon fill=\"black\" stroke=\"black\" points=\"533.1,-97.68 543.56,-95.98 534.32,-90.79 533.1,-97.68\"/>\n</g>\n<!-- 139509372084112*&#45;&gt;139509372084112 -->\n<g id=\"edge4\" class=\"edge\">\n<title>139509372084112*&#45;&gt;139509372084112</title>\n<path fill=\"none\" stroke=\"black\" d=\"M289.13,-73.5C296.67,-73.5 305.39,-73.5 314.64,-73.5\"/>\n<polygon fill=\"black\" stroke=\"black\" points=\"314.87,-77 324.87,-73.5 314.87,-70 314.87,-77\"/>\n</g>\n<!-- 139509400842192 -->\n<g id=\"node14\" class=\"node\">\n<title>139509400842192</title>\n<polygon fill=\"none\" stroke=\"black\" points=\"1277.29,-109.5 1277.29,-145.5 1459.29,-145.5 1459.29,-109.5 1277.29,-109.5\"/>\n<text text-anchor=\"middle\" x=\"1287.29\" y=\"-123.8\" font-family=\"Times,serif\" font-size=\"14.00\"> </text>\n<polyline fill=\"none\" stroke=\"black\" points=\"1297.29,-109.5 1297.29,-145.5 \"/>\n<text text-anchor=\"middle\" x=\"1337.29\" y=\"-123.8\" font-family=\"Times,serif\" font-size=\"14.00\">data 0.9976</text>\n<polyline fill=\"none\" stroke=\"black\" points=\"1377.29,-109.5 1377.29,-145.5 \"/>\n<text text-anchor=\"middle\" x=\"1418.29\" y=\"-123.8\" font-family=\"Times,serif\" font-size=\"14.00\">grad 0.0000</text>\n</g>\n<!-- 139509400842192sigmoid&#45;&gt;139509400842192 -->\n<g id=\"edge5\" class=\"edge\">\n<title>139509400842192sigmoid&#45;&gt;139509400842192</title>\n<path fill=\"none\" stroke=\"black\" d=\"M1241.67,-127.5C1249.54,-127.5 1258.16,-127.5 1267.07,-127.5\"/>\n<polygon fill=\"black\" stroke=\"black\" points=\"1267.23,-131 1277.23,-127.5 1267.23,-124 1267.23,-131\"/>\n</g>\n</g>\n</svg>\n",
            "text/plain": [
              "<graphviz.graphs.Digraph at 0x7ee20ed21dd0>"
            ]
          },
          "metadata": {},
          "execution_count": 147
        }
      ]
    },
    {
      "cell_type": "code",
      "source": [
        "# Backprop"
      ],
      "metadata": {
        "id": "y-5GbJ84eI7W"
      },
      "execution_count": 148,
      "outputs": []
    },
    {
      "cell_type": "code",
      "source": [
        "o1.backward()"
      ],
      "metadata": {
        "id": "-S3ksXVBeDLt"
      },
      "execution_count": 149,
      "outputs": []
    },
    {
      "cell_type": "code",
      "source": [
        "o2.backward()"
      ],
      "metadata": {
        "id": "Ywao2XPReF_l"
      },
      "execution_count": 150,
      "outputs": []
    },
    {
      "cell_type": "code",
      "source": [
        "o3.backward()"
      ],
      "metadata": {
        "id": "iG_x8rMMeHVR"
      },
      "execution_count": 151,
      "outputs": []
    },
    {
      "cell_type": "code",
      "source": [
        "# Using pytorch for the same(single MLP neuron)"
      ],
      "metadata": {
        "id": "LfhgH006eITI"
      },
      "execution_count": 152,
      "outputs": []
    },
    {
      "cell_type": "code",
      "source": [
        "import torch"
      ],
      "metadata": {
        "id": "YMWcuOv4efGv"
      },
      "execution_count": 153,
      "outputs": []
    },
    {
      "cell_type": "code",
      "source": [
        "x1 = torch.tensor([2.0]).double();x1.requires_grad=True\n",
        "x2 = torch.tensor([5.0]).double();x2.requires_grad=True\n",
        "\n",
        "w1 = torch.tensor([2.0]).double();w1.requires_grad=True\n",
        "w2 = torch.tensor([2.0]).double();w2.requires_grad=True\n",
        "\n",
        "b = torch.tensor([1.7]).double()\n",
        "\n",
        "w1x1 = w1 * x1\n",
        "w2x2 = w2 * x2\n",
        "w1x1w2x2 = w1*x1 + w2*x2\n",
        "o = torch.tanh(w1x1w2x2 + b)\n",
        "o.backward()"
      ],
      "metadata": {
        "id": "Xe-yVE6bejFO"
      },
      "execution_count": 154,
      "outputs": []
    },
    {
      "cell_type": "code",
      "source": [
        "print(o)\n",
        "print('---')\n",
        "print(o.data)\n",
        "print('---')\n",
        "print(o.data.item())\n",
        "\n",
        "print('---')\n",
        "print('x2', x2.grad)\n",
        "print('---')\n",
        "print('x2', x2.grad.item())\n",
        "print('w2', w2.grad.item())\n",
        "print('x1', x1.grad.item())\n",
        "print('w1', w1.grad.item())"
      ],
      "metadata": {
        "colab": {
          "base_uri": "https://localhost:8080/"
        },
        "id": "8yyz9L4BfNUe",
        "outputId": "5d74d176-bbcc-430d-cf24-5522a0bb16f8"
      },
      "execution_count": 155,
      "outputs": [
        {
          "output_type": "stream",
          "name": "stdout",
          "text": [
            "tensor([1.0000], dtype=torch.float64, grad_fn=<TanhBackward0>)\n",
            "---\n",
            "tensor([1.0000], dtype=torch.float64)\n",
            "---\n",
            "0.9999999999999538\n",
            "---\n",
            "x2 tensor([1.8474e-13], dtype=torch.float64)\n",
            "---\n",
            "x2 1.8474111129762178e-13\n",
            "w2 4.618527782440544e-13\n",
            "x1 1.8474111129762178e-13\n",
            "w1 1.8474111129762178e-13\n"
          ]
        }
      ]
    },
    {
      "cell_type": "code",
      "source": [
        "# MLP Implementation"
      ],
      "metadata": {
        "id": "7e9Qg3hefO_g"
      },
      "execution_count": 156,
      "outputs": []
    },
    {
      "cell_type": "code",
      "source": [
        "# Neuron\n",
        "\n",
        "import random\n",
        "class Neuron:\n",
        "\n",
        "  def __init__(self,nin): # nin -> number of inputs\n",
        "\n",
        "    self.w = [Item(random.uniform(-1,1)) for _ in range(nin)]\n",
        "    self.b = Item(random.uniform(-1,1))\n",
        "\n",
        "  def __call__(self,x): # x -> input\n",
        "\n",
        "    out = sum([wi * xi for wi,xi in zip(self.w,x)], self.b)\n",
        "    out_act = out.tanh()\n",
        "    return out_act\n",
        "\n",
        "  def parameters(self):\n",
        "\n",
        "    return self.w + [self.b]"
      ],
      "metadata": {
        "id": "0w_QLseQf9O3"
      },
      "execution_count": 157,
      "outputs": []
    },
    {
      "cell_type": "code",
      "source": [
        "n = Neuron(3)\n",
        "x = [2.0,3.0,4.0]\n",
        "n(x)"
      ],
      "metadata": {
        "colab": {
          "base_uri": "https://localhost:8080/"
        },
        "id": "y-apVFZImoO-",
        "outputId": "aad94ab9-b9f2-4ec0-e458-f7120e79695b"
      },
      "execution_count": 158,
      "outputs": [
        {
          "output_type": "execute_result",
          "data": {
            "text/plain": [
              "Item(data=-0.7085163027352095)"
            ]
          },
          "metadata": {},
          "execution_count": 158
        }
      ]
    },
    {
      "cell_type": "code",
      "source": [
        "n.parameters()"
      ],
      "metadata": {
        "colab": {
          "base_uri": "https://localhost:8080/"
        },
        "id": "4eb8TJ-7mrHK",
        "outputId": "8c2a31e5-e559-4ec9-bbeb-e48e89530fd5"
      },
      "execution_count": 159,
      "outputs": [
        {
          "output_type": "execute_result",
          "data": {
            "text/plain": [
              "[Item(data=-0.9435797742463152),\n",
              " Item(data=0.49311530550428073),\n",
              " Item(data=0.03361147234402706),\n",
              " Item(data=-0.610830525629962)]"
            ]
          },
          "metadata": {},
          "execution_count": 159
        }
      ]
    },
    {
      "cell_type": "code",
      "source": [
        "# Layer\n",
        "\n",
        "class Layer:\n",
        "\n",
        "  def __init__(self,nin,nout): # nin -> number of inputs, nout -> number of neurons(number of outputs)\n",
        "    self.neurons = [Neuron(nin) for _ in range(nout)]\n",
        "\n",
        "  def __call__(self,x):\n",
        "    out = [n(x) for n in self.neurons]\n",
        "    return out[0] if len(out) == 1 else out\n",
        "\n",
        "  def parameters(self):\n",
        "    return [parameters for neuron in self.neurons for parameters in neuron.parameters()] # Each parameter of each neuron in self.neurons"
      ],
      "metadata": {
        "id": "lA3V3tWMm7rm"
      },
      "execution_count": 160,
      "outputs": []
    },
    {
      "cell_type": "code",
      "source": [
        "l = Layer(3,4)\n",
        "x = [3.0,4.0,5.0]\n",
        "l(x)"
      ],
      "metadata": {
        "colab": {
          "base_uri": "https://localhost:8080/"
        },
        "id": "MZCS5U6ZnTd0",
        "outputId": "30274960-21a6-4856-9982-17f76f74a2df"
      },
      "execution_count": 161,
      "outputs": [
        {
          "output_type": "execute_result",
          "data": {
            "text/plain": [
              "[Item(data=-0.9999998432446651),\n",
              " Item(data=0.9999313906094225),\n",
              " Item(data=-0.9997843191249614),\n",
              " Item(data=0.999999738804562)]"
            ]
          },
          "metadata": {},
          "execution_count": 161
        }
      ]
    },
    {
      "cell_type": "code",
      "source": [
        "l.parameters()"
      ],
      "metadata": {
        "colab": {
          "base_uri": "https://localhost:8080/"
        },
        "id": "GR-4vhO5nUqO",
        "outputId": "c03a2713-7a15-4425-a65b-2ff9e44626ca"
      },
      "execution_count": 162,
      "outputs": [
        {
          "output_type": "execute_result",
          "data": {
            "text/plain": [
              "[Item(data=-0.4243371793483939),\n",
              " Item(data=-0.8291861230369111),\n",
              " Item(data=-0.6194984050029364),\n",
              " Item(data=-0.4936153077796621),\n",
              " Item(data=-0.39481659038688544),\n",
              " Item(data=0.9252937148898439),\n",
              " Item(data=0.7166780693319286),\n",
              " Item(data=-0.9600184255619426),\n",
              " Item(data=-0.3637894595358053),\n",
              " Item(data=0.5159457629552018),\n",
              " Item(data=-0.963945442132347),\n",
              " Item(data=-0.7200624662716237),\n",
              " Item(data=0.998362660745054),\n",
              " Item(data=0.8372127542089083),\n",
              " Item(data=0.21468333410726737),\n",
              " Item(data=0.5082163080631947)]"
            ]
          },
          "metadata": {},
          "execution_count": 162
        }
      ]
    },
    {
      "cell_type": "code",
      "source": [
        "# MLP\n",
        "\n",
        "class MLP:\n",
        "\n",
        "  def __init__(self,nin,nout): # nin -> Number of inputs, nout -> Number of neurons in each layer in list format\n",
        "    total_inputs = [nin] + nout\n",
        "    self.layers = [Layer(total_inputs[i],total_inputs[i+1]) for i in range(len(nout))]\n",
        "\n",
        "  def __call__(self,x):\n",
        "    for layer in self.layers:\n",
        "      x = layer(x)\n",
        "    return x\n",
        "\n",
        "  def parameters(self):\n",
        "    return [parameter for layer in self.layers for parameter in layer.parameters()]"
      ],
      "metadata": {
        "id": "aU29eyiJpsKz"
      },
      "execution_count": 163,
      "outputs": []
    },
    {
      "cell_type": "code",
      "source": [
        "m = MLP(3,[4,5,1])\n",
        "x = [2.0,3.0,4.0]\n",
        "m(x)"
      ],
      "metadata": {
        "colab": {
          "base_uri": "https://localhost:8080/"
        },
        "id": "Sn6vClpPsZvd",
        "outputId": "e5a903ae-a557-4ad8-9f3a-f0f227513585"
      },
      "execution_count": 164,
      "outputs": [
        {
          "output_type": "execute_result",
          "data": {
            "text/plain": [
              "Item(data=-0.424076112233624)"
            ]
          },
          "metadata": {},
          "execution_count": 164
        }
      ]
    },
    {
      "cell_type": "code",
      "source": [
        "m.parameters()"
      ],
      "metadata": {
        "colab": {
          "base_uri": "https://localhost:8080/"
        },
        "id": "sMY0Ndnksj8B",
        "outputId": "b05c7fbb-031f-45a4-b678-ecef498b1b4c"
      },
      "execution_count": 165,
      "outputs": [
        {
          "output_type": "execute_result",
          "data": {
            "text/plain": [
              "[Item(data=0.011711311970273863),\n",
              " Item(data=-0.7297667549746063),\n",
              " Item(data=-0.8001286596101087),\n",
              " Item(data=-0.45855501698813894),\n",
              " Item(data=-0.2984541672862133),\n",
              " Item(data=-0.45919194106479266),\n",
              " Item(data=-0.7454029431807545),\n",
              " Item(data=-0.8087729291596442),\n",
              " Item(data=-0.5912240274877136),\n",
              " Item(data=-0.85894521454901),\n",
              " Item(data=-0.6739063809243888),\n",
              " Item(data=-0.045812038456517934),\n",
              " Item(data=-0.4942008606824224),\n",
              " Item(data=-0.3328065356084611),\n",
              " Item(data=-0.3444780933814693),\n",
              " Item(data=0.2598554176182546),\n",
              " Item(data=0.3336143345746949),\n",
              " Item(data=-0.3405962155923219),\n",
              " Item(data=-0.966264735028336),\n",
              " Item(data=0.18135020227458942),\n",
              " Item(data=-0.10003289323623221),\n",
              " Item(data=0.40693181348168106),\n",
              " Item(data=0.7484129903726975),\n",
              " Item(data=-0.06045844364308506),\n",
              " Item(data=-0.21921143865234627),\n",
              " Item(data=0.7291903603623602),\n",
              " Item(data=-0.28915337024848387),\n",
              " Item(data=0.8389602431478917),\n",
              " Item(data=0.06759855019315708),\n",
              " Item(data=-0.8633736252332904),\n",
              " Item(data=-0.08892027728428076),\n",
              " Item(data=-0.8960494287926783),\n",
              " Item(data=-0.6431225682864417),\n",
              " Item(data=0.8784395284421651),\n",
              " Item(data=-0.8933925814624428),\n",
              " Item(data=0.6892997760993216),\n",
              " Item(data=0.63451598955435),\n",
              " Item(data=0.3448274217869507),\n",
              " Item(data=-0.4143083251638455),\n",
              " Item(data=-0.1526651671614696),\n",
              " Item(data=0.13965369581868803),\n",
              " Item(data=0.03200640156582257),\n",
              " Item(data=-0.9405989793812086),\n",
              " Item(data=0.8362777025001549),\n",
              " Item(data=-0.191902076859914),\n",
              " Item(data=-0.07427809219505432),\n",
              " Item(data=-0.5690990248230046)]"
            ]
          },
          "metadata": {},
          "execution_count": 165
        }
      ]
    },
    {
      "cell_type": "code",
      "source": [
        "# Predictions and Backprop"
      ],
      "metadata": {
        "id": "BFImnvk3s-0p"
      },
      "execution_count": 166,
      "outputs": []
    },
    {
      "cell_type": "code",
      "source": [
        "xs = [\n",
        "  [2.0, 3.0, -1.0],\n",
        "  [3.0, -1.0, 0.5],\n",
        "  [0.5, 1.0, 1.0]\n",
        "]\n",
        "ys = [1.0, -1.0, 1.0] # desired targets"
      ],
      "metadata": {
        "id": "XQLt7kEBsysN"
      },
      "execution_count": 167,
      "outputs": []
    },
    {
      "cell_type": "code",
      "source": [
        "ypred = [m(x) for x in xs]\n",
        "ypred"
      ],
      "metadata": {
        "colab": {
          "base_uri": "https://localhost:8080/"
        },
        "id": "UAZnUxwSs9TI",
        "outputId": "815f72e1-012e-4253-8424-c5af6187e926"
      },
      "execution_count": 168,
      "outputs": [
        {
          "output_type": "execute_result",
          "data": {
            "text/plain": [
              "[Item(data=-0.49400755730810875),\n",
              " Item(data=-0.8059774404964537),\n",
              " Item(data=-0.5879802268743199)]"
            ]
          },
          "metadata": {},
          "execution_count": 168
        }
      ]
    },
    {
      "cell_type": "code",
      "source": [
        "# Loss -> MSE\n",
        "loss_list = [(yout - ysi)** 2 for yout,ysi in zip(ypred,ys)]\n",
        "\n",
        "loss = Item(0)\n",
        "for l in loss_list:\n",
        "  loss += l\n",
        "loss"
      ],
      "metadata": {
        "colab": {
          "base_uri": "https://localhost:8080/"
        },
        "id": "Tua7cyL5tDyj",
        "outputId": "ca2c0dd2-0028-4dbd-cc67-2330898194fc"
      },
      "execution_count": 169,
      "outputs": [
        {
          "output_type": "execute_result",
          "data": {
            "text/plain": [
              "Item(data=4.791384535833867)"
            ]
          },
          "metadata": {},
          "execution_count": 169
        }
      ]
    },
    {
      "cell_type": "code",
      "source": [
        "loss.backward()"
      ],
      "metadata": {
        "id": "mJSZzIoRta42"
      },
      "execution_count": 170,
      "outputs": []
    },
    {
      "cell_type": "code",
      "source": [
        "# Forward and Backward passes with weight updation"
      ],
      "metadata": {
        "id": "wlTExh4xvCO5"
      },
      "execution_count": 171,
      "outputs": []
    },
    {
      "cell_type": "code",
      "source": [
        "# MLP initialization\n",
        "m = MLP(3,[4,5,1])\n",
        "x = [2.0,3.0,4.0]\n",
        "m(x)"
      ],
      "metadata": {
        "colab": {
          "base_uri": "https://localhost:8080/"
        },
        "id": "AzI2NqeQvUrO",
        "outputId": "ff75b892-928d-477a-e3d1-f50c1258e83c"
      },
      "execution_count": 172,
      "outputs": [
        {
          "output_type": "execute_result",
          "data": {
            "text/plain": [
              "Item(data=0.5249133375344547)"
            ]
          },
          "metadata": {},
          "execution_count": 172
        }
      ]
    },
    {
      "cell_type": "code",
      "source": [
        "m.parameters()"
      ],
      "metadata": {
        "colab": {
          "base_uri": "https://localhost:8080/"
        },
        "id": "YFx0yTJjZ26Q",
        "outputId": "db60a27b-0a1d-4d30-cc48-61f43e31f7fd"
      },
      "execution_count": 173,
      "outputs": [
        {
          "output_type": "execute_result",
          "data": {
            "text/plain": [
              "[Item(data=0.8220447502766599),\n",
              " Item(data=0.009088307336529322),\n",
              " Item(data=0.8966113695994711),\n",
              " Item(data=0.9965473886238241),\n",
              " Item(data=-0.9301662691668937),\n",
              " Item(data=-0.6286979930939496),\n",
              " Item(data=-0.7578108952208618),\n",
              " Item(data=0.09855219142150684),\n",
              " Item(data=-0.11881661505783514),\n",
              " Item(data=-0.8838663453258537),\n",
              " Item(data=-0.5113847004509011),\n",
              " Item(data=0.6290366836761372),\n",
              " Item(data=0.076657137018038),\n",
              " Item(data=-0.2246826993168094),\n",
              " Item(data=-0.31057902324187503),\n",
              " Item(data=0.44680053144116383),\n",
              " Item(data=0.6346289720638418),\n",
              " Item(data=-0.9856146228100782),\n",
              " Item(data=-0.14951428873585382),\n",
              " Item(data=0.3843259673993089),\n",
              " Item(data=0.9625833976260676),\n",
              " Item(data=-0.6502378865191663),\n",
              " Item(data=0.18505620037676906),\n",
              " Item(data=-0.6942354793008718),\n",
              " Item(data=-0.6044320575870652),\n",
              " Item(data=0.14042285217854156),\n",
              " Item(data=0.7274202835985759),\n",
              " Item(data=-0.8277735476255452),\n",
              " Item(data=0.6798492753448622),\n",
              " Item(data=0.8282823779513626),\n",
              " Item(data=0.4124281535651042),\n",
              " Item(data=0.7382675979039908),\n",
              " Item(data=0.7549915971820103),\n",
              " Item(data=-0.9386230761643701),\n",
              " Item(data=0.6026551655703705),\n",
              " Item(data=-0.24733073230443492),\n",
              " Item(data=-0.7282568128801439),\n",
              " Item(data=-0.5545577610168269),\n",
              " Item(data=-0.5044097353313923),\n",
              " Item(data=0.8756720830539884),\n",
              " Item(data=0.7215172923279085),\n",
              " Item(data=0.7243401413458244),\n",
              " Item(data=0.8659306436654637),\n",
              " Item(data=0.09232714939065678),\n",
              " Item(data=0.7897600340056941),\n",
              " Item(data=-0.6600817438378943),\n",
              " Item(data=-0.52322481783954)]"
            ]
          },
          "metadata": {},
          "execution_count": 173
        }
      ]
    },
    {
      "cell_type": "code",
      "source": [
        "# Forward pass\n",
        "ypred = [m(x) for x in xs]\n",
        "loss_list = [(yout - ysi)** 2 for yout,ysi in zip(ypred,ys)]\n",
        "\n",
        "loss = Item(0)\n",
        "for l in loss_list:\n",
        "  loss += l\n",
        "print(loss)\n",
        "\n",
        "#Backward pass\n",
        "for parameter in m.parameters():\n",
        "  parameter.grad = 0.0\n",
        "  loss.backward()\n",
        "for parameter in m.parameters():\n",
        "  parameter.data += -0.1 * parameter.grad #(- learningrate * d(L)/d(W))"
      ],
      "metadata": {
        "colab": {
          "base_uri": "https://localhost:8080/"
        },
        "id": "kzRD2iZ8u7MR",
        "outputId": "e206d6dd-7898-4faa-ae23-c636c5a7797e"
      },
      "execution_count": 174,
      "outputs": [
        {
          "output_type": "stream",
          "name": "stdout",
          "text": [
            "Item(data=1.9427401774675488)\n"
          ]
        }
      ]
    },
    {
      "cell_type": "code",
      "source": [],
      "metadata": {
        "id": "Di5ejW0Twu57"
      },
      "execution_count": 174,
      "outputs": []
    }
  ]
}